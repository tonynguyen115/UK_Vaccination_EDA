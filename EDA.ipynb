{
 "cells": [
  {
   "cell_type": "markdown",
   "id": "c1e7bdbd",
   "metadata": {},
   "source": [
    "# EDA PROJECT - UK Vaccinations Dataset"
   ]
  },
  {
   "cell_type": "markdown",
   "id": "0b3583ff",
   "metadata": {},
   "source": [
    "Candidate No.565217"
   ]
  },
  {
   "cell_type": "markdown",
   "id": "35f7ae16",
   "metadata": {},
   "source": [
    "## INTRODUCTION"
   ]
  },
  {
   "cell_type": "markdown",
   "id": "baa3e1af",
   "metadata": {},
   "source": [
    "In recent years, the demand to get vaccinated is more crucial due to the COVID-19 pandemic. Therefore, it is significantly important for the vaccination centres to predict the number of people who will come on a specific day so they can prepare better. This report will focus on the dataset of all three doses to look for the primary trend among them and find the most optimal model to forecast the number of people who are vaccinated on a certain date."
   ]
  },
  {
   "cell_type": "markdown",
   "id": "a09cf9fa",
   "metadata": {},
   "source": [
    "## Part 1: Descriptive statistics and main trends."
   ]
  },
  {
   "cell_type": "code",
   "execution_count": 1,
   "id": "b338dc58",
   "metadata": {},
   "outputs": [
    {
     "data": {
      "text/html": [
       "<style>\n",
       "        .bk-notebook-logo {\n",
       "            display: block;\n",
       "            width: 20px;\n",
       "            height: 20px;\n",
       "            background-image: url(data:image/png;base64,iVBORw0KGgoAAAANSUhEUgAAABQAAAAUCAYAAACNiR0NAAAABHNCSVQICAgIfAhkiAAAAAlwSFlzAAALEgAACxIB0t1+/AAAABx0RVh0U29mdHdhcmUAQWRvYmUgRmlyZXdvcmtzIENTNui8sowAAAOkSURBVDiNjZRtaJVlGMd/1/08zzln5zjP1LWcU9N0NkN8m2CYjpgQYQXqSs0I84OLIC0hkEKoPtiH3gmKoiJDU7QpLgoLjLIQCpEsNJ1vqUOdO7ppbuec5+V+rj4ctwzd8IIbbi6u+8f1539dt3A78eXC7QizUF7gyV1fD1Yqg4JWz84yffhm0qkFqBogB9rM8tZdtwVsPUhWhGcFJngGeWrPzHm5oaMmkfEg1usvLFyc8jLRqDOMru7AyC8saQr7GG7f5fvDeH7Ej8CM66nIF+8yngt6HWaKh7k49Soy9nXurCi1o3qUbS3zWfrYeQDTB/Qj6kX6Ybhw4B+bOYoLKCC9H3Nu/leUTZ1JdRWkkn2ldcCamzrcf47KKXdAJllSlxAOkRgyHsGC/zRday5Qld9DyoM4/q/rUoy/CXh3jzOu3bHUVZeU+DEn8FInkPBFlu3+nW3Nw0mk6vCDiWg8CeJaxEwuHS3+z5RgY+YBR6V1Z1nxSOfoaPa4LASWxxdNp+VWTk7+4vzaou8v8PN+xo+KY2xsw6une2frhw05CTYOmQvsEhjhWjn0bmXPjpE1+kplmmkP3suftwTubK9Vq22qKmrBhpY4jvd5afdRA3wGjFAgcnTK2s4hY0/GPNIb0nErGMCRxWOOX64Z8RAC4oCXdklmEvcL8o0BfkNK4lUg9HTl+oPlQxdNo3Mg4Nv175e/1LDGzZen30MEjRUtmXSfiTVu1kK8W4txyV6BMKlbgk3lMwYCiusNy9fVfvvwMxv8Ynl6vxoByANLTWplvuj/nF9m2+PDtt1eiHPBr1oIfhCChQMBw6Aw0UulqTKZdfVvfG7VcfIqLG9bcldL/+pdWTLxLUy8Qq38heUIjh4XlzZxzQm19lLFlr8vdQ97rjZVOLf8nclzckbcD4wxXMidpX30sFd37Fv/GtwwhzhxGVAprjbg0gCAEeIgwCZyTV2Z1REEW8O4py0wsjeloKoMr6iCY6dP92H6Vw/oTyICIthibxjm/DfN9lVz8IqtqKYLUXfoKVMVQVVJOElGjrnnUt9T9wbgp8AyYKaGlqingHZU/uG2NTZSVqwHQTWkx9hxjkpWDaCg6Ckj5qebgBVbT3V3NNXMSiWSDdGV3hrtzla7J+duwPOToIg42ChPQOQjspnSlp1V+Gjdged7+8UN5CRAV7a5EdFNwCjEaBR27b3W890TE7g24NAP/mMDXRWrGoFPQI9ls/MWO2dWFAar/xcOIImbbpA3zgAAAABJRU5ErkJggg==);\n",
       "        }\n",
       "    </style>\n",
       "    <div>\n",
       "        <a href=\"https://bokeh.org\" target=\"_blank\" class=\"bk-notebook-logo\"></a>\n",
       "        <span id=\"f2ed487a-2f74-4d2a-9dc1-d71ae2f71798\">Loading BokehJS ...</span>\n",
       "    </div>\n"
      ]
     },
     "metadata": {},
     "output_type": "display_data"
    },
    {
     "data": {
      "application/javascript": [
       "(function(root) {\n",
       "  function now() {\n",
       "    return new Date();\n",
       "  }\n",
       "\n",
       "  const force = true;\n",
       "\n",
       "  if (typeof root._bokeh_onload_callbacks === \"undefined\" || force === true) {\n",
       "    root._bokeh_onload_callbacks = [];\n",
       "    root._bokeh_is_loading = undefined;\n",
       "  }\n",
       "\n",
       "const JS_MIME_TYPE = 'application/javascript';\n",
       "  const HTML_MIME_TYPE = 'text/html';\n",
       "  const EXEC_MIME_TYPE = 'application/vnd.bokehjs_exec.v0+json';\n",
       "  const CLASS_NAME = 'output_bokeh rendered_html';\n",
       "\n",
       "  /**\n",
       "   * Render data to the DOM node\n",
       "   */\n",
       "  function render(props, node) {\n",
       "    const script = document.createElement(\"script\");\n",
       "    node.appendChild(script);\n",
       "  }\n",
       "\n",
       "  /**\n",
       "   * Handle when an output is cleared or removed\n",
       "   */\n",
       "  function handleClearOutput(event, handle) {\n",
       "    const cell = handle.cell;\n",
       "\n",
       "    const id = cell.output_area._bokeh_element_id;\n",
       "    const server_id = cell.output_area._bokeh_server_id;\n",
       "    // Clean up Bokeh references\n",
       "    if (id != null && id in Bokeh.index) {\n",
       "      Bokeh.index[id].model.document.clear();\n",
       "      delete Bokeh.index[id];\n",
       "    }\n",
       "\n",
       "    if (server_id !== undefined) {\n",
       "      // Clean up Bokeh references\n",
       "      const cmd_clean = \"from bokeh.io.state import curstate; print(curstate().uuid_to_server['\" + server_id + \"'].get_sessions()[0].document.roots[0]._id)\";\n",
       "      cell.notebook.kernel.execute(cmd_clean, {\n",
       "        iopub: {\n",
       "          output: function(msg) {\n",
       "            const id = msg.content.text.trim();\n",
       "            if (id in Bokeh.index) {\n",
       "              Bokeh.index[id].model.document.clear();\n",
       "              delete Bokeh.index[id];\n",
       "            }\n",
       "          }\n",
       "        }\n",
       "      });\n",
       "      // Destroy server and session\n",
       "      const cmd_destroy = \"import bokeh.io.notebook as ion; ion.destroy_server('\" + server_id + \"')\";\n",
       "      cell.notebook.kernel.execute(cmd_destroy);\n",
       "    }\n",
       "  }\n",
       "\n",
       "  /**\n",
       "   * Handle when a new output is added\n",
       "   */\n",
       "  function handleAddOutput(event, handle) {\n",
       "    const output_area = handle.output_area;\n",
       "    const output = handle.output;\n",
       "\n",
       "    // limit handleAddOutput to display_data with EXEC_MIME_TYPE content only\n",
       "    if ((output.output_type != \"display_data\") || (!Object.prototype.hasOwnProperty.call(output.data, EXEC_MIME_TYPE))) {\n",
       "      return\n",
       "    }\n",
       "\n",
       "    const toinsert = output_area.element.find(\".\" + CLASS_NAME.split(' ')[0]);\n",
       "\n",
       "    if (output.metadata[EXEC_MIME_TYPE][\"id\"] !== undefined) {\n",
       "      toinsert[toinsert.length - 1].firstChild.textContent = output.data[JS_MIME_TYPE];\n",
       "      // store reference to embed id on output_area\n",
       "      output_area._bokeh_element_id = output.metadata[EXEC_MIME_TYPE][\"id\"];\n",
       "    }\n",
       "    if (output.metadata[EXEC_MIME_TYPE][\"server_id\"] !== undefined) {\n",
       "      const bk_div = document.createElement(\"div\");\n",
       "      bk_div.innerHTML = output.data[HTML_MIME_TYPE];\n",
       "      const script_attrs = bk_div.children[0].attributes;\n",
       "      for (let i = 0; i < script_attrs.length; i++) {\n",
       "        toinsert[toinsert.length - 1].firstChild.setAttribute(script_attrs[i].name, script_attrs[i].value);\n",
       "        toinsert[toinsert.length - 1].firstChild.textContent = bk_div.children[0].textContent\n",
       "      }\n",
       "      // store reference to server id on output_area\n",
       "      output_area._bokeh_server_id = output.metadata[EXEC_MIME_TYPE][\"server_id\"];\n",
       "    }\n",
       "  }\n",
       "\n",
       "  function register_renderer(events, OutputArea) {\n",
       "\n",
       "    function append_mime(data, metadata, element) {\n",
       "      // create a DOM node to render to\n",
       "      const toinsert = this.create_output_subarea(\n",
       "        metadata,\n",
       "        CLASS_NAME,\n",
       "        EXEC_MIME_TYPE\n",
       "      );\n",
       "      this.keyboard_manager.register_events(toinsert);\n",
       "      // Render to node\n",
       "      const props = {data: data, metadata: metadata[EXEC_MIME_TYPE]};\n",
       "      render(props, toinsert[toinsert.length - 1]);\n",
       "      element.append(toinsert);\n",
       "      return toinsert\n",
       "    }\n",
       "\n",
       "    /* Handle when an output is cleared or removed */\n",
       "    events.on('clear_output.CodeCell', handleClearOutput);\n",
       "    events.on('delete.Cell', handleClearOutput);\n",
       "\n",
       "    /* Handle when a new output is added */\n",
       "    events.on('output_added.OutputArea', handleAddOutput);\n",
       "\n",
       "    /**\n",
       "     * Register the mime type and append_mime function with output_area\n",
       "     */\n",
       "    OutputArea.prototype.register_mime_type(EXEC_MIME_TYPE, append_mime, {\n",
       "      /* Is output safe? */\n",
       "      safe: true,\n",
       "      /* Index of renderer in `output_area.display_order` */\n",
       "      index: 0\n",
       "    });\n",
       "  }\n",
       "\n",
       "  // register the mime type if in Jupyter Notebook environment and previously unregistered\n",
       "  if (root.Jupyter !== undefined) {\n",
       "    const events = require('base/js/events');\n",
       "    const OutputArea = require('notebook/js/outputarea').OutputArea;\n",
       "\n",
       "    if (OutputArea.prototype.mime_types().indexOf(EXEC_MIME_TYPE) == -1) {\n",
       "      register_renderer(events, OutputArea);\n",
       "    }\n",
       "  }\n",
       "  if (typeof (root._bokeh_timeout) === \"undefined\" || force === true) {\n",
       "    root._bokeh_timeout = Date.now() + 5000;\n",
       "    root._bokeh_failed_load = false;\n",
       "  }\n",
       "\n",
       "  const NB_LOAD_WARNING = {'data': {'text/html':\n",
       "     \"<div style='background-color: #fdd'>\\n\"+\n",
       "     \"<p>\\n\"+\n",
       "     \"BokehJS does not appear to have successfully loaded. If loading BokehJS from CDN, this \\n\"+\n",
       "     \"may be due to a slow or bad network connection. Possible fixes:\\n\"+\n",
       "     \"</p>\\n\"+\n",
       "     \"<ul>\\n\"+\n",
       "     \"<li>re-rerun `output_notebook()` to attempt to load from CDN again, or</li>\\n\"+\n",
       "     \"<li>use INLINE resources instead, as so:</li>\\n\"+\n",
       "     \"</ul>\\n\"+\n",
       "     \"<code>\\n\"+\n",
       "     \"from bokeh.resources import INLINE\\n\"+\n",
       "     \"output_notebook(resources=INLINE)\\n\"+\n",
       "     \"</code>\\n\"+\n",
       "     \"</div>\"}};\n",
       "\n",
       "  function display_loaded() {\n",
       "    const el = document.getElementById(\"f2ed487a-2f74-4d2a-9dc1-d71ae2f71798\");\n",
       "    if (el != null) {\n",
       "      el.textContent = \"BokehJS is loading...\";\n",
       "    }\n",
       "    if (root.Bokeh !== undefined) {\n",
       "      if (el != null) {\n",
       "        el.textContent = \"BokehJS \" + root.Bokeh.version + \" successfully loaded.\";\n",
       "      }\n",
       "    } else if (Date.now() < root._bokeh_timeout) {\n",
       "      setTimeout(display_loaded, 100)\n",
       "    }\n",
       "  }\n",
       "\n",
       "  function run_callbacks() {\n",
       "    try {\n",
       "      root._bokeh_onload_callbacks.forEach(function(callback) {\n",
       "        if (callback != null)\n",
       "          callback();\n",
       "      });\n",
       "    } finally {\n",
       "      delete root._bokeh_onload_callbacks\n",
       "    }\n",
       "    console.debug(\"Bokeh: all callbacks have finished\");\n",
       "  }\n",
       "\n",
       "  function load_libs(css_urls, js_urls, callback) {\n",
       "    if (css_urls == null) css_urls = [];\n",
       "    if (js_urls == null) js_urls = [];\n",
       "\n",
       "    root._bokeh_onload_callbacks.push(callback);\n",
       "    if (root._bokeh_is_loading > 0) {\n",
       "      console.debug(\"Bokeh: BokehJS is being loaded, scheduling callback at\", now());\n",
       "      return null;\n",
       "    }\n",
       "    if (js_urls == null || js_urls.length === 0) {\n",
       "      run_callbacks();\n",
       "      return null;\n",
       "    }\n",
       "    console.debug(\"Bokeh: BokehJS not loaded, scheduling load and callback at\", now());\n",
       "    root._bokeh_is_loading = css_urls.length + js_urls.length;\n",
       "\n",
       "    function on_load() {\n",
       "      root._bokeh_is_loading--;\n",
       "      if (root._bokeh_is_loading === 0) {\n",
       "        console.debug(\"Bokeh: all BokehJS libraries/stylesheets loaded\");\n",
       "        run_callbacks()\n",
       "      }\n",
       "    }\n",
       "\n",
       "    function on_error(url) {\n",
       "      console.error(\"failed to load \" + url);\n",
       "    }\n",
       "\n",
       "    for (let i = 0; i < css_urls.length; i++) {\n",
       "      const url = css_urls[i];\n",
       "      const element = document.createElement(\"link\");\n",
       "      element.onload = on_load;\n",
       "      element.onerror = on_error.bind(null, url);\n",
       "      element.rel = \"stylesheet\";\n",
       "      element.type = \"text/css\";\n",
       "      element.href = url;\n",
       "      console.debug(\"Bokeh: injecting link tag for BokehJS stylesheet: \", url);\n",
       "      document.body.appendChild(element);\n",
       "    }\n",
       "\n",
       "    for (let i = 0; i < js_urls.length; i++) {\n",
       "      const url = js_urls[i];\n",
       "      const element = document.createElement('script');\n",
       "      element.onload = on_load;\n",
       "      element.onerror = on_error.bind(null, url);\n",
       "      element.async = false;\n",
       "      element.src = url;\n",
       "      console.debug(\"Bokeh: injecting script tag for BokehJS library: \", url);\n",
       "      document.head.appendChild(element);\n",
       "    }\n",
       "  };\n",
       "\n",
       "  function inject_raw_css(css) {\n",
       "    const element = document.createElement(\"style\");\n",
       "    element.appendChild(document.createTextNode(css));\n",
       "    document.body.appendChild(element);\n",
       "  }\n",
       "\n",
       "  const js_urls = [\"https://cdn.bokeh.org/bokeh/release/bokeh-3.2.1.min.js\", \"https://cdn.bokeh.org/bokeh/release/bokeh-gl-3.2.1.min.js\", \"https://cdn.bokeh.org/bokeh/release/bokeh-widgets-3.2.1.min.js\", \"https://cdn.bokeh.org/bokeh/release/bokeh-tables-3.2.1.min.js\", \"https://cdn.bokeh.org/bokeh/release/bokeh-mathjax-3.2.1.min.js\"];\n",
       "  const css_urls = [];\n",
       "\n",
       "  const inline_js = [    function(Bokeh) {\n",
       "      Bokeh.set_log_level(\"info\");\n",
       "    },\n",
       "function(Bokeh) {\n",
       "    }\n",
       "  ];\n",
       "\n",
       "  function run_inline_js() {\n",
       "    if (root.Bokeh !== undefined || force === true) {\n",
       "          for (let i = 0; i < inline_js.length; i++) {\n",
       "      inline_js[i].call(root, root.Bokeh);\n",
       "    }\n",
       "if (force === true) {\n",
       "        display_loaded();\n",
       "      }} else if (Date.now() < root._bokeh_timeout) {\n",
       "      setTimeout(run_inline_js, 100);\n",
       "    } else if (!root._bokeh_failed_load) {\n",
       "      console.log(\"Bokeh: BokehJS failed to load within specified timeout.\");\n",
       "      root._bokeh_failed_load = true;\n",
       "    } else if (force !== true) {\n",
       "      const cell = $(document.getElementById(\"f2ed487a-2f74-4d2a-9dc1-d71ae2f71798\")).parents('.cell').data().cell;\n",
       "      cell.output_area.append_execute_result(NB_LOAD_WARNING)\n",
       "    }\n",
       "  }\n",
       "\n",
       "  if (root._bokeh_is_loading === 0) {\n",
       "    console.debug(\"Bokeh: BokehJS loaded, going straight to plotting\");\n",
       "    run_inline_js();\n",
       "  } else {\n",
       "    load_libs(css_urls, js_urls, function() {\n",
       "      console.debug(\"Bokeh: BokehJS plotting callback run at\", now());\n",
       "      run_inline_js();\n",
       "    });\n",
       "  }\n",
       "}(window));"
      ],
      "application/vnd.bokehjs_load.v0+json": "(function(root) {\n  function now() {\n    return new Date();\n  }\n\n  const force = true;\n\n  if (typeof root._bokeh_onload_callbacks === \"undefined\" || force === true) {\n    root._bokeh_onload_callbacks = [];\n    root._bokeh_is_loading = undefined;\n  }\n\n\n  if (typeof (root._bokeh_timeout) === \"undefined\" || force === true) {\n    root._bokeh_timeout = Date.now() + 5000;\n    root._bokeh_failed_load = false;\n  }\n\n  const NB_LOAD_WARNING = {'data': {'text/html':\n     \"<div style='background-color: #fdd'>\\n\"+\n     \"<p>\\n\"+\n     \"BokehJS does not appear to have successfully loaded. If loading BokehJS from CDN, this \\n\"+\n     \"may be due to a slow or bad network connection. Possible fixes:\\n\"+\n     \"</p>\\n\"+\n     \"<ul>\\n\"+\n     \"<li>re-rerun `output_notebook()` to attempt to load from CDN again, or</li>\\n\"+\n     \"<li>use INLINE resources instead, as so:</li>\\n\"+\n     \"</ul>\\n\"+\n     \"<code>\\n\"+\n     \"from bokeh.resources import INLINE\\n\"+\n     \"output_notebook(resources=INLINE)\\n\"+\n     \"</code>\\n\"+\n     \"</div>\"}};\n\n  function display_loaded() {\n    const el = document.getElementById(\"f2ed487a-2f74-4d2a-9dc1-d71ae2f71798\");\n    if (el != null) {\n      el.textContent = \"BokehJS is loading...\";\n    }\n    if (root.Bokeh !== undefined) {\n      if (el != null) {\n        el.textContent = \"BokehJS \" + root.Bokeh.version + \" successfully loaded.\";\n      }\n    } else if (Date.now() < root._bokeh_timeout) {\n      setTimeout(display_loaded, 100)\n    }\n  }\n\n  function run_callbacks() {\n    try {\n      root._bokeh_onload_callbacks.forEach(function(callback) {\n        if (callback != null)\n          callback();\n      });\n    } finally {\n      delete root._bokeh_onload_callbacks\n    }\n    console.debug(\"Bokeh: all callbacks have finished\");\n  }\n\n  function load_libs(css_urls, js_urls, callback) {\n    if (css_urls == null) css_urls = [];\n    if (js_urls == null) js_urls = [];\n\n    root._bokeh_onload_callbacks.push(callback);\n    if (root._bokeh_is_loading > 0) {\n      console.debug(\"Bokeh: BokehJS is being loaded, scheduling callback at\", now());\n      return null;\n    }\n    if (js_urls == null || js_urls.length === 0) {\n      run_callbacks();\n      return null;\n    }\n    console.debug(\"Bokeh: BokehJS not loaded, scheduling load and callback at\", now());\n    root._bokeh_is_loading = css_urls.length + js_urls.length;\n\n    function on_load() {\n      root._bokeh_is_loading--;\n      if (root._bokeh_is_loading === 0) {\n        console.debug(\"Bokeh: all BokehJS libraries/stylesheets loaded\");\n        run_callbacks()\n      }\n    }\n\n    function on_error(url) {\n      console.error(\"failed to load \" + url);\n    }\n\n    for (let i = 0; i < css_urls.length; i++) {\n      const url = css_urls[i];\n      const element = document.createElement(\"link\");\n      element.onload = on_load;\n      element.onerror = on_error.bind(null, url);\n      element.rel = \"stylesheet\";\n      element.type = \"text/css\";\n      element.href = url;\n      console.debug(\"Bokeh: injecting link tag for BokehJS stylesheet: \", url);\n      document.body.appendChild(element);\n    }\n\n    for (let i = 0; i < js_urls.length; i++) {\n      const url = js_urls[i];\n      const element = document.createElement('script');\n      element.onload = on_load;\n      element.onerror = on_error.bind(null, url);\n      element.async = false;\n      element.src = url;\n      console.debug(\"Bokeh: injecting script tag for BokehJS library: \", url);\n      document.head.appendChild(element);\n    }\n  };\n\n  function inject_raw_css(css) {\n    const element = document.createElement(\"style\");\n    element.appendChild(document.createTextNode(css));\n    document.body.appendChild(element);\n  }\n\n  const js_urls = [\"https://cdn.bokeh.org/bokeh/release/bokeh-3.2.1.min.js\", \"https://cdn.bokeh.org/bokeh/release/bokeh-gl-3.2.1.min.js\", \"https://cdn.bokeh.org/bokeh/release/bokeh-widgets-3.2.1.min.js\", \"https://cdn.bokeh.org/bokeh/release/bokeh-tables-3.2.1.min.js\", \"https://cdn.bokeh.org/bokeh/release/bokeh-mathjax-3.2.1.min.js\"];\n  const css_urls = [];\n\n  const inline_js = [    function(Bokeh) {\n      Bokeh.set_log_level(\"info\");\n    },\nfunction(Bokeh) {\n    }\n  ];\n\n  function run_inline_js() {\n    if (root.Bokeh !== undefined || force === true) {\n          for (let i = 0; i < inline_js.length; i++) {\n      inline_js[i].call(root, root.Bokeh);\n    }\nif (force === true) {\n        display_loaded();\n      }} else if (Date.now() < root._bokeh_timeout) {\n      setTimeout(run_inline_js, 100);\n    } else if (!root._bokeh_failed_load) {\n      console.log(\"Bokeh: BokehJS failed to load within specified timeout.\");\n      root._bokeh_failed_load = true;\n    } else if (force !== true) {\n      const cell = $(document.getElementById(\"f2ed487a-2f74-4d2a-9dc1-d71ae2f71798\")).parents('.cell').data().cell;\n      cell.output_area.append_execute_result(NB_LOAD_WARNING)\n    }\n  }\n\n  if (root._bokeh_is_loading === 0) {\n    console.debug(\"Bokeh: BokehJS loaded, going straight to plotting\");\n    run_inline_js();\n  } else {\n    load_libs(css_urls, js_urls, function() {\n      console.debug(\"Bokeh: BokehJS plotting callback run at\", now());\n      run_inline_js();\n    });\n  }\n}(window));"
     },
     "metadata": {},
     "output_type": "display_data"
    }
   ],
   "source": [
    "#Import necessary libraries\n",
    "import pandas as pd\n",
    "import numpy as np\n",
    "import math\n",
    "import matplotlib.pyplot as plt\n",
    "import seaborn as sns\n",
    "from scipy import stats\n",
    "import statsmodels.api as sm\n",
    "from bokeh.io import output_notebook\n",
    "output_notebook()\n",
    "\n",
    "from bokeh.plotting import figure\n",
    "from bokeh.io import show\n",
    "#magic function for diplaying plot in the notebook\n",
    "%matplotlib inline "
   ]
  },
  {
   "cell_type": "code",
   "execution_count": 2,
   "id": "87424ae5",
   "metadata": {},
   "outputs": [
    {
     "data": {
      "text/html": [
       "<div>\n",
       "<style scoped>\n",
       "    .dataframe tbody tr th:only-of-type {\n",
       "        vertical-align: middle;\n",
       "    }\n",
       "\n",
       "    .dataframe tbody tr th {\n",
       "        vertical-align: top;\n",
       "    }\n",
       "\n",
       "    .dataframe thead th {\n",
       "        text-align: right;\n",
       "    }\n",
       "</style>\n",
       "<table border=\"1\" class=\"dataframe\">\n",
       "  <thead>\n",
       "    <tr style=\"text-align: right;\">\n",
       "      <th></th>\n",
       "      <th>areaName</th>\n",
       "      <th>areaCode</th>\n",
       "      <th>year</th>\n",
       "      <th>month</th>\n",
       "      <th>Quarter</th>\n",
       "      <th>day</th>\n",
       "      <th>WorkingDay</th>\n",
       "      <th>FirstDose</th>\n",
       "      <th>SecondDose</th>\n",
       "      <th>ThirdDose</th>\n",
       "    </tr>\n",
       "  </thead>\n",
       "  <tbody>\n",
       "    <tr>\n",
       "      <th>0</th>\n",
       "      <td>England</td>\n",
       "      <td>E92000001</td>\n",
       "      <td>2022.0</td>\n",
       "      <td>5</td>\n",
       "      <td>Q2</td>\n",
       "      <td>Mon</td>\n",
       "      <td>Yes</td>\n",
       "      <td>3034.0</td>\n",
       "      <td>3857.0</td>\n",
       "      <td>8747.0</td>\n",
       "    </tr>\n",
       "    <tr>\n",
       "      <th>1</th>\n",
       "      <td>England</td>\n",
       "      <td>E92000001</td>\n",
       "      <td>2022.0</td>\n",
       "      <td>5</td>\n",
       "      <td>Q2</td>\n",
       "      <td>Sun</td>\n",
       "      <td>No</td>\n",
       "      <td>5331.0</td>\n",
       "      <td>3330.0</td>\n",
       "      <td>4767.0</td>\n",
       "    </tr>\n",
       "    <tr>\n",
       "      <th>2</th>\n",
       "      <td>England</td>\n",
       "      <td>E92000001</td>\n",
       "      <td>2022.0</td>\n",
       "      <td>5</td>\n",
       "      <td>Q2</td>\n",
       "      <td>Sat</td>\n",
       "      <td>No</td>\n",
       "      <td>13852.0</td>\n",
       "      <td>9759.0</td>\n",
       "      <td>12335.0</td>\n",
       "    </tr>\n",
       "  </tbody>\n",
       "</table>\n",
       "</div>"
      ],
      "text/plain": [
       "  areaName   areaCode    year  month Quarter  day WorkingDay  FirstDose  \\\n",
       "0  England  E92000001  2022.0      5      Q2  Mon        Yes     3034.0   \n",
       "1  England  E92000001  2022.0      5      Q2  Sun         No     5331.0   \n",
       "2  England  E92000001  2022.0      5      Q2  Sat         No    13852.0   \n",
       "\n",
       "   SecondDose  ThirdDose  \n",
       "0      3857.0     8747.0  \n",
       "1      3330.0     4767.0  \n",
       "2      9759.0    12335.0  "
      ]
     },
     "execution_count": 2,
     "metadata": {},
     "output_type": "execute_result"
    }
   ],
   "source": [
    "#Read the UK_VaccinationsData.xlsx file\n",
    "df = pd.read_excel(\"UK_VaccinationsData.xlsx\")\n",
    "#Get the first three row of the data set\n",
    "df.head(3)"
   ]
  },
  {
   "cell_type": "code",
   "execution_count": 3,
   "id": "1e49c76b",
   "metadata": {},
   "outputs": [
    {
     "data": {
      "text/html": [
       "<div>\n",
       "<style scoped>\n",
       "    .dataframe tbody tr th:only-of-type {\n",
       "        vertical-align: middle;\n",
       "    }\n",
       "\n",
       "    .dataframe tbody tr th {\n",
       "        vertical-align: top;\n",
       "    }\n",
       "\n",
       "    .dataframe thead th {\n",
       "        text-align: right;\n",
       "    }\n",
       "</style>\n",
       "<table border=\"1\" class=\"dataframe\">\n",
       "  <thead>\n",
       "    <tr style=\"text-align: right;\">\n",
       "      <th></th>\n",
       "      <th>year</th>\n",
       "      <th>month</th>\n",
       "      <th>FirstDose</th>\n",
       "      <th>SecondDose</th>\n",
       "      <th>ThirdDose</th>\n",
       "    </tr>\n",
       "  </thead>\n",
       "  <tbody>\n",
       "    <tr>\n",
       "      <th>count</th>\n",
       "      <td>903.00</td>\n",
       "      <td>904.00</td>\n",
       "      <td>900.00</td>\n",
       "      <td>901.00</td>\n",
       "      <td>898.00</td>\n",
       "    </tr>\n",
       "    <tr>\n",
       "      <th>mean</th>\n",
       "      <td>2021.63</td>\n",
       "      <td>5.95</td>\n",
       "      <td>4994.32</td>\n",
       "      <td>5574.13</td>\n",
       "      <td>42529.57</td>\n",
       "    </tr>\n",
       "    <tr>\n",
       "      <th>std</th>\n",
       "      <td>0.48</td>\n",
       "      <td>4.15</td>\n",
       "      <td>9651.34</td>\n",
       "      <td>9174.10</td>\n",
       "      <td>104877.58</td>\n",
       "    </tr>\n",
       "    <tr>\n",
       "      <th>min</th>\n",
       "      <td>2021.00</td>\n",
       "      <td>1.00</td>\n",
       "      <td>0.00</td>\n",
       "      <td>0.00</td>\n",
       "      <td>0.00</td>\n",
       "    </tr>\n",
       "    <tr>\n",
       "      <th>25%</th>\n",
       "      <td>2021.00</td>\n",
       "      <td>2.00</td>\n",
       "      <td>338.50</td>\n",
       "      <td>478.00</td>\n",
       "      <td>1313.50</td>\n",
       "    </tr>\n",
       "    <tr>\n",
       "      <th>50%</th>\n",
       "      <td>2022.00</td>\n",
       "      <td>4.00</td>\n",
       "      <td>876.50</td>\n",
       "      <td>971.00</td>\n",
       "      <td>6992.00</td>\n",
       "    </tr>\n",
       "    <tr>\n",
       "      <th>75%</th>\n",
       "      <td>2022.00</td>\n",
       "      <td>11.00</td>\n",
       "      <td>3653.25</td>\n",
       "      <td>5770.00</td>\n",
       "      <td>23464.75</td>\n",
       "    </tr>\n",
       "    <tr>\n",
       "      <th>max</th>\n",
       "      <td>2022.00</td>\n",
       "      <td>12.00</td>\n",
       "      <td>115551.00</td>\n",
       "      <td>48491.00</td>\n",
       "      <td>830403.00</td>\n",
       "    </tr>\n",
       "  </tbody>\n",
       "</table>\n",
       "</div>"
      ],
      "text/plain": [
       "          year   month  FirstDose  SecondDose  ThirdDose\n",
       "count   903.00  904.00     900.00      901.00     898.00\n",
       "mean   2021.63    5.95    4994.32     5574.13   42529.57\n",
       "std       0.48    4.15    9651.34     9174.10  104877.58\n",
       "min    2021.00    1.00       0.00        0.00       0.00\n",
       "25%    2021.00    2.00     338.50      478.00    1313.50\n",
       "50%    2022.00    4.00     876.50      971.00    6992.00\n",
       "75%    2022.00   11.00    3653.25     5770.00   23464.75\n",
       "max    2022.00   12.00  115551.00    48491.00  830403.00"
      ]
     },
     "execution_count": 3,
     "metadata": {},
     "output_type": "execute_result"
    }
   ],
   "source": [
    "# Generate descriptive statistics for the data set\n",
    "df.describe().round(2)"
   ]
  },
  {
   "cell_type": "code",
   "execution_count": 4,
   "id": "eac05e4a",
   "metadata": {},
   "outputs": [
    {
     "name": "stdout",
     "output_type": "stream",
     "text": [
      "4494891 people took the first dose\n",
      "5022287 people took the second dose\n",
      "38191554 people took the third dose\n"
     ]
    }
   ],
   "source": [
    "#Find the total number of people took each dose\n",
    "print(f'{int(df[\"FirstDose\"].sum())} people took the first dose')\n",
    "print(f'{int(df[\"SecondDose\"].sum())} people took the second dose')\n",
    "print(f'{int(df[\"ThirdDose\"].sum())} people took the third dose')"
   ]
  },
  {
   "cell_type": "markdown",
   "id": "63f8011e",
   "metadata": {},
   "source": [
    "First and foremost, the count values of all five variables are different from each other, which means there are some missing values in the dataset. Next, the data can be considered the latest because more than half of the dataset is recorded in 2022. Moreover, ThirdDose has the least number of data entries, but its mean and sum are the largest among the three variables. It is resulted from the fact that the government urges people to take a total of three doses to prevent COVID-19."
   ]
  },
  {
   "cell_type": "markdown",
   "id": "9641c867",
   "metadata": {},
   "source": [
    "# Part 2: Missing values and How to handle"
   ]
  },
  {
   "cell_type": "code",
   "execution_count": 5,
   "id": "c961d91d",
   "metadata": {},
   "outputs": [
    {
     "name": "stdout",
     "output_type": "stream",
     "text": [
      "<class 'pandas.core.frame.DataFrame'>\n",
      "RangeIndex: 904 entries, 0 to 903\n",
      "Data columns (total 10 columns):\n",
      " #   Column      Non-Null Count  Dtype  \n",
      "---  ------      --------------  -----  \n",
      " 0   areaName    904 non-null    object \n",
      " 1   areaCode    904 non-null    object \n",
      " 2   year        903 non-null    float64\n",
      " 3   month       904 non-null    int64  \n",
      " 4   Quarter     903 non-null    object \n",
      " 5   day         903 non-null    object \n",
      " 6   WorkingDay  902 non-null    object \n",
      " 7   FirstDose   900 non-null    float64\n",
      " 8   SecondDose  901 non-null    float64\n",
      " 9   ThirdDose   898 non-null    float64\n",
      "dtypes: float64(4), int64(1), object(5)\n",
      "memory usage: 70.8+ KB\n"
     ]
    }
   ],
   "source": [
    "#Get the info about the data set\n",
    "df.info()"
   ]
  },
  {
   "cell_type": "code",
   "execution_count": 6,
   "id": "3022e3ef",
   "metadata": {},
   "outputs": [],
   "source": [
    "#Filling missing data of FirstDose by using interpolate linear method\n",
    "\n",
    "df[\"FirstDose\"].interpolate(method = \"linear\", inplace=True)\n",
    "\n",
    "#Using rounding up function \n",
    "#because the number of first dose must be an integer\n",
    "\n",
    "df[\"FirstDose\"] = df[\"FirstDose\"].apply(lambda x: math.ceil(x))"
   ]
  },
  {
   "cell_type": "code",
   "execution_count": 7,
   "id": "879ac20a",
   "metadata": {},
   "outputs": [],
   "source": [
    "#Filling missing data of SecondDose by using interpolate linear method\n",
    "\n",
    "df[\"SecondDose\"].interpolate(method = \"linear\", inplace=True)\n",
    "\n",
    "#Using rounding up function \n",
    "#because the number of second dose must be an integer\n",
    "\n",
    "df[\"SecondDose\"] = df[\"SecondDose\"].apply(lambda x: math.ceil(x))"
   ]
  },
  {
   "cell_type": "code",
   "execution_count": 8,
   "id": "2115fb01",
   "metadata": {},
   "outputs": [],
   "source": [
    "#Filling missing data of ThirdDose by using interpolate linear method\n",
    "\n",
    "df[\"ThirdDose\"].interpolate(method = \"linear\", inplace = True)\n",
    "\n",
    "#Using rounding up function \n",
    "#because the number of the third dose must be an integer\n",
    "\n",
    "df[\"ThirdDose\"] = df[\"ThirdDose\"].apply(lambda x: math.ceil(x))"
   ]
  },
  {
   "cell_type": "code",
   "execution_count": 9,
   "id": "39ea2b3a",
   "metadata": {},
   "outputs": [],
   "source": [
    "#Filling missing data of Year by using interpolate linear method\n",
    "\n",
    "df[\"year\"].interpolate(method = \"linear\", inplace=True)\n",
    "\n",
    "#Using rounding down function because the year must be an integer\n",
    "\n",
    "df[\"year\"] = df[\"year\"].apply(lambda x: math.floor(x))"
   ]
  },
  {
   "cell_type": "code",
   "execution_count": 10,
   "id": "c1f2a680",
   "metadata": {},
   "outputs": [],
   "source": [
    "#Define function to get quarter from month collumn for missing values\n",
    "\n",
    "def get_quarter(month):\n",
    "    # Case of the first quarter of the year\n",
    "    if month in [1, 2, 3]:\n",
    "        return \"Q1\"\n",
    "    # Case of the second quarter of the year\n",
    "    elif month in [4, 5, 6]:\n",
    "        return \"Q2\"\n",
    "    # Case of the third quarter of the year\n",
    "    elif month in [7, 8, 9]:\n",
    "        return \"Q3\"\n",
    "    # Case of the fourth quarter of the year\n",
    "    elif month in [10, 11, 12]:\n",
    "        return \"Q4\"\n",
    "\n",
    "#Apply the get_quarter function to get the missing quarter value\n",
    "\n",
    "df.loc[df[\"Quarter\"].isnull(), \n",
    "       \"Quarter\"] = df.loc[df[\"Quarter\"].isnull(), \n",
    "                           \"month\"].apply(get_quarter)"
   ]
  },
  {
   "cell_type": "code",
   "execution_count": 11,
   "id": "d63c5461",
   "metadata": {},
   "outputs": [],
   "source": [
    "#Define a function to convert weekday names into a number\n",
    "\n",
    "def day_num(x):\n",
    "    #Set a list of days in a week\n",
    "    weekdays = [\"Sun\",\"Sat\",\"Fri\",\"Thu\",\"Wed\",\"Tue\",\"Mon\"]\n",
    "    #Get the index of each day in the list above\n",
    "    if x in weekdays:\n",
    "        y = weekdays.index(x)\n",
    "        return y\n",
    "\n",
    "#Add one column to find the missing day value\n",
    "#Apply the day_num function above to fill the value in this column\n",
    "\n",
    "df[\"day_num\"] = df[\"day\"].apply(day_num)\n",
    "\n",
    "#Define a function to get the day_num of the missing day \n",
    "#based on the previous day\n",
    "\n",
    "def next_day_num(x):\n",
    "    #Using modulo operator to return the value\n",
    "    return (x+1)%7\n",
    "\n",
    "#Create a loop to fill the missing value by using the function next_day_num\n",
    "\n",
    "for i in range(1,len(df)):\n",
    "    #For the missing value only in the dataframe\n",
    "    if pd.isna(df.at[i, \"day_num\"]):\n",
    "        #Apply the function next_day_num\n",
    "        df.at[i, \"day_num\"] = next_day_num(df.at[i-1, \"day_num\"])\n",
    "\n",
    "#Define a function to convert day_num back to weekday name\n",
    "\n",
    "def get_day_from_num(x):\n",
    "    #Set a list of days in a week\n",
    "    weekdays = [\"Sun\",\"Sat\",\"Fri\",\"Thu\",\"Wed\",\"Tue\",\"Mon\"]\n",
    "    #Return the day from day_num variable\n",
    "    return weekdays[int(x)]\n",
    "\n",
    "#Apply get_day_from_num to get the missing values in the day\n",
    "\n",
    "df.loc[df[\"day\"].isnull(), \n",
    "       \"day\"] = df.loc[df[\"day\"].isnull(), \n",
    "                       \"day_num\"].apply(get_day_from_num)\n",
    "\n",
    "#Delete the day_num collumn\n",
    "\n",
    "df = df.drop(\"day_num\", axis =1)"
   ]
  },
  {
   "cell_type": "code",
   "execution_count": 12,
   "id": "0e883738",
   "metadata": {},
   "outputs": [],
   "source": [
    "#Define function to check working day for missing values\n",
    "\n",
    "def working_day_check(day):\n",
    "    #Check with weekdays to return Yes\n",
    "    if day in [\"Mon\",\"Tue\",\"Wed\",\"Thu\",\"Fri\"]:\n",
    "        return \"Yes\"\n",
    "    #Check with the weekend to return No\n",
    "    elif day in [\"Sat\",\"Sun\"]:\n",
    "        return \"No\"\n",
    "    \n",
    "#Apply working_day_check function \n",
    "#to get missing values in working day collumns\n",
    "\n",
    "df.loc[df[\"WorkingDay\"].isnull(), \n",
    "       \"WorkingDay\"] = df.loc[df[\"WorkingDay\"].isnull(), \n",
    "                              \"day\"].apply(working_day_check)"
   ]
  },
  {
   "cell_type": "code",
   "execution_count": 13,
   "id": "160b360b",
   "metadata": {},
   "outputs": [
    {
     "name": "stdout",
     "output_type": "stream",
     "text": [
      "<class 'pandas.core.frame.DataFrame'>\n",
      "RangeIndex: 904 entries, 0 to 903\n",
      "Data columns (total 10 columns):\n",
      " #   Column      Non-Null Count  Dtype \n",
      "---  ------      --------------  ----- \n",
      " 0   areaName    904 non-null    object\n",
      " 1   areaCode    904 non-null    object\n",
      " 2   year        904 non-null    int64 \n",
      " 3   month       904 non-null    int64 \n",
      " 4   Quarter     904 non-null    object\n",
      " 5   day         904 non-null    object\n",
      " 6   WorkingDay  904 non-null    object\n",
      " 7   FirstDose   904 non-null    int64 \n",
      " 8   SecondDose  904 non-null    int64 \n",
      " 9   ThirdDose   904 non-null    int64 \n",
      "dtypes: int64(5), object(5)\n",
      "memory usage: 70.8+ KB\n"
     ]
    }
   ],
   "source": [
    "#Double check the result table of information\n",
    "\n",
    "df.info()"
   ]
  },
  {
   "cell_type": "markdown",
   "id": "e4745a23",
   "metadata": {},
   "source": [
    "## Part 3: Visualisation"
   ]
  },
  {
   "cell_type": "markdown",
   "id": "26200df5",
   "metadata": {},
   "source": [
    "### 3A. The distribution of SecondDose"
   ]
  },
  {
   "cell_type": "code",
   "execution_count": 14,
   "id": "9c2466f5",
   "metadata": {},
   "outputs": [
    {
     "data": {
      "text/plain": [
       "Text(0.5, 1.0, 'Distribution of SecondDose')"
      ]
     },
     "execution_count": 14,
     "metadata": {},
     "output_type": "execute_result"
    },
    {
     "data": {
      "image/png": "[encoded data removed]",
      "text/plain": [
       "<Figure size 640x480 with 1 Axes>"
      ]
     },
     "metadata": {},
     "output_type": "display_data"
    }
   ],
   "source": [
    "#Plot a histogram because this is the best graph \n",
    "#to display the distribution of a continuous variable\n",
    "\n",
    "sns.histplot(df[\"SecondDose\"], \n",
    "             bins = 10,\n",
    "             kde = True)\n",
    "#Naming x-axis, y-axis and graph title\n",
    "plt.xlabel(\"Number of People took the Second Dose\");\n",
    "plt.ylabel(\"Frequency\");\n",
    "plt.title(\"Distribution of SecondDose\")"
   ]
  },
  {
   "cell_type": "markdown",
   "id": "c99b4248",
   "metadata": {},
   "source": [
    "First and foremost, this histogram is unimodal, which means it has one single dominant peak. Secondly, the distribution is right-skewed, with its peak on the left of the centre. Besides, the long tail on the right reveals numerous days when many people take their vaccine dose for the second time. "
   ]
  },
  {
   "cell_type": "markdown",
   "id": "fcce9fc1",
   "metadata": {},
   "source": [
    "### 3B. The relationship between FirstDose and SecondDose"
   ]
  },
  {
   "cell_type": "code",
   "execution_count": 15,
   "id": "ca24380e",
   "metadata": {},
   "outputs": [
    {
     "data": {
      "text/plain": [
       "Text(0.5, 1.0, 'Relationship between FirstDose and SecondDose')"
      ]
     },
     "execution_count": 15,
     "metadata": {},
     "output_type": "execute_result"
    },
    {
     "data": {
      "image/png": "[encoded data removed]",
      "text/plain": [
       "<Figure size 500x500 with 1 Axes>"
      ]
     },
     "metadata": {},
     "output_type": "display_data"
    }
   ],
   "source": [
    "#Plot a scatter plot because it is the best graph \n",
    "#to reveal the relationship of two continuous variables\n",
    "\n",
    "sns.relplot(x = \"FirstDose\", \n",
    "            y = \"SecondDose\", \n",
    "            data = df);\n",
    "\n",
    "#Naming x-axis, y-axis and graph title\n",
    "plt.xlabel(\"Number of People took the First Dose\");\n",
    "plt.ylabel(\"Number of People took the Second Dose\");\n",
    "plt.title(\"Relationship between FirstDose and SecondDose\")"
   ]
  },
  {
   "cell_type": "markdown",
   "id": "b37a5a38",
   "metadata": {},
   "source": [
    "Firstly, there is a strong positive correlation between FirstDose and SecondDose because there is only a small number of outliers while most of the dots stay close to each other. Next, the steep slope indicates that the higher the number of people who take the first dose, the higher the number of people who take the second dose in a day."
   ]
  },
  {
   "cell_type": "markdown",
   "id": "38ea70c1",
   "metadata": {},
   "source": [
    "### 3C. The association between Quarter and FirstDose"
   ]
  },
  {
   "cell_type": "code",
   "execution_count": 16,
   "id": "12e53e7b",
   "metadata": {},
   "outputs": [
    {
     "data": {
      "text/plain": [
       "Text(0.5, 1.0, 'Association between Quarter and SecondDose')"
      ]
     },
     "execution_count": 16,
     "metadata": {},
     "output_type": "execute_result"
    },
    {
     "data": {
      "image/png": "[encoded data removed]",
      "text/plain": [
       "<Figure size 640x480 with 1 Axes>"
      ]
     },
     "metadata": {},
     "output_type": "display_data"
    }
   ],
   "source": [
    "#Draw a box plot because it is the best \n",
    "#to display the association between a categorical and a continuous variable\n",
    "\n",
    "sns.boxplot(x = \"Quarter\", \n",
    "            y = \"SecondDose\",\n",
    "            order = [\"Q1\", \"Q2\", \"Q3\", \"Q4\"],\n",
    "            data = df)\n",
    "\n",
    "#Naming x-axis, y-axis and graph title\n",
    "\n",
    "plt.xlabel(\"Quarter\");\n",
    "plt.ylabel(\"Number of People took the Second Dose\");\n",
    "plt.title(\"Association between Quarter and SecondDose\")"
   ]
  },
  {
   "cell_type": "markdown",
   "id": "50243e51",
   "metadata": {},
   "source": [
    "The box plot reveals that the first, second, and fourth quarters have nearly the same distribution with a small range of values and many extreme outliers. In addition, they also witnessed the median values close to the lowest point of the data set, which means their distribution will be right-skewed. Moreover, the third quarter is the only one with no extreme outliers and the highest median. Besides, its median is also at the centre of the interquartile box, which is opposite to all other quarters. Therefore, the number of people who took the second dose was symmetrically distributed in the third quarter."
   ]
  },
  {
   "cell_type": "markdown",
   "id": "f4c2263b",
   "metadata": {},
   "source": [
    "### 3D. The relationship between SecondDose, ThirdDose, and Year"
   ]
  },
  {
   "cell_type": "code",
   "execution_count": 17,
   "id": "3dcc98d1",
   "metadata": {
    "scrolled": false
   },
   "outputs": [
    {
     "data": {
      "text/plain": [
       "<seaborn.axisgrid.FacetGrid at 0x158e623d0>"
      ]
     },
     "execution_count": 17,
     "metadata": {},
     "output_type": "execute_result"
    },
    {
     "data": {
      "image/png": "[encoded data removed]",
      "text/plain": [
       "<Figure size 585.5x500 with 1 Axes>"
      ]
     },
     "metadata": {},
     "output_type": "display_data"
    }
   ],
   "source": [
    "#Build graphs visualizing the relationship between three variables \n",
    "#using semantic mappings\n",
    "\n",
    "ax = sns.relplot(x = \"SecondDose\", \n",
    "                 y = \"ThirdDose\",  \n",
    "                 hue = 'year', \n",
    "                 palette = \"bright\",\n",
    "                 data = df)\n",
    "\n",
    "#Naming x-axis, y-axis and graph title\n",
    "\n",
    "ax.set(xlabel = \"Number of People took the Second Dose\", \n",
    "       ylabel = \"Number of People took the Third Dose\",\n",
    "       title = \"Relationship between Second Dose, Third Dose and Year\")"
   ]
  },
  {
   "cell_type": "markdown",
   "id": "0e4b8501",
   "metadata": {},
   "source": [
    "The scatter plot above reveals that the relationship between SecondDose and ThirdDose is a moderate positive relationship in both 2011 and 2022. However, the ThirdDose's stat in 2021 is significantly higher than 2022's, which can be the effect of the urgency to get vaccinated when the COVID-19 outbreak."
   ]
  },
  {
   "cell_type": "markdown",
   "id": "4b53d1a7",
   "metadata": {},
   "source": [
    "## Part 4: Display unique values and frequencies of Quarter"
   ]
  },
  {
   "cell_type": "code",
   "execution_count": 18,
   "id": "976b45be",
   "metadata": {},
   "outputs": [
    {
     "data": {
      "text/plain": [
       "Q1    360\n",
       "Q4    336\n",
       "Q2    206\n",
       "Q3      2\n",
       "Name: Quarter, dtype: int64"
      ]
     },
     "execution_count": 18,
     "metadata": {},
     "output_type": "execute_result"
    }
   ],
   "source": [
    "#Display unique values of Quarters and their frequencies\n",
    "\n",
    "df[\"Quarter\"].value_counts()"
   ]
  },
  {
   "cell_type": "markdown",
   "id": "ba91448b",
   "metadata": {},
   "source": [
    "Third quarter is the only period that has a significantly low number of data, below 200 entries. It indicates that the amount of data collected is insufficient to conclude about the distribution of vaccinated citizens in every quarter. Furthermore, it is also helpful for the regression model in part 9 later in choosing independent variables."
   ]
  },
  {
   "cell_type": "markdown",
   "id": "c07bddd5",
   "metadata": {},
   "source": [
    "## Part 5: The Relationship between Day and WorkingDay"
   ]
  },
  {
   "cell_type": "code",
   "execution_count": 19,
   "id": "e0891b4a",
   "metadata": {},
   "outputs": [
    {
     "data": {
      "text/html": [
       "<div>\n",
       "<style scoped>\n",
       "    .dataframe tbody tr th:only-of-type {\n",
       "        vertical-align: middle;\n",
       "    }\n",
       "\n",
       "    .dataframe tbody tr th {\n",
       "        vertical-align: top;\n",
       "    }\n",
       "\n",
       "    .dataframe thead th {\n",
       "        text-align: right;\n",
       "    }\n",
       "</style>\n",
       "<table border=\"1\" class=\"dataframe\">\n",
       "  <thead>\n",
       "    <tr style=\"text-align: right;\">\n",
       "      <th>WorkingDay</th>\n",
       "      <th>No</th>\n",
       "      <th>Yes</th>\n",
       "    </tr>\n",
       "    <tr>\n",
       "      <th>day</th>\n",
       "      <th></th>\n",
       "      <th></th>\n",
       "    </tr>\n",
       "  </thead>\n",
       "  <tbody>\n",
       "    <tr>\n",
       "      <th>Fri</th>\n",
       "      <td>0</td>\n",
       "      <td>130</td>\n",
       "    </tr>\n",
       "    <tr>\n",
       "      <th>Mon</th>\n",
       "      <td>0</td>\n",
       "      <td>129</td>\n",
       "    </tr>\n",
       "    <tr>\n",
       "      <th>Sat</th>\n",
       "      <td>130</td>\n",
       "      <td>0</td>\n",
       "    </tr>\n",
       "    <tr>\n",
       "      <th>Sun</th>\n",
       "      <td>130</td>\n",
       "      <td>0</td>\n",
       "    </tr>\n",
       "    <tr>\n",
       "      <th>Thu</th>\n",
       "      <td>0</td>\n",
       "      <td>130</td>\n",
       "    </tr>\n",
       "    <tr>\n",
       "      <th>Tue</th>\n",
       "      <td>0</td>\n",
       "      <td>127</td>\n",
       "    </tr>\n",
       "    <tr>\n",
       "      <th>Wed</th>\n",
       "      <td>0</td>\n",
       "      <td>128</td>\n",
       "    </tr>\n",
       "  </tbody>\n",
       "</table>\n",
       "</div>"
      ],
      "text/plain": [
       "WorkingDay   No  Yes\n",
       "day                 \n",
       "Fri           0  130\n",
       "Mon           0  129\n",
       "Sat         130    0\n",
       "Sun         130    0\n",
       "Thu           0  130\n",
       "Tue           0  127\n",
       "Wed           0  128"
      ]
     },
     "execution_count": 19,
     "metadata": {},
     "output_type": "execute_result"
    }
   ],
   "source": [
    "#Use the crosstab function to build the contigency table\n",
    "\n",
    "cont_table = pd.crosstab(df[\"day\"], \n",
    "                         df[\"WorkingDay\"])\n",
    "\n",
    "#Get the contingency table\n",
    "\n",
    "cont_table"
   ]
  },
  {
   "cell_type": "markdown",
   "id": "c3fda3d6",
   "metadata": {},
   "source": [
    "Step 1:\n",
    "- The Null hypothesis is that there is no dependence between day and WorkingDay. \n",
    "- The Alternative hypothesis is that there is a dependence between day and WorkingDay.\n",
    "\n",
    "Step 2: To test whether two categorical variables are independent or not, it is required to use the Chi-square test\n",
    "\n",
    "Step 3: For the Chi-square test, the usual significance level used is 0.05. Therefore, the value of $\\alpha$ to compare is 0.05\n",
    "\n",
    "Step 4: Calculate the test statistic"
   ]
  },
  {
   "cell_type": "code",
   "execution_count": 20,
   "id": "d4925eb3",
   "metadata": {},
   "outputs": [
    {
     "name": "stdout",
     "output_type": "stream",
     "text": [
      "p-value: 5.129354374464748e-192\n"
     ]
    }
   ],
   "source": [
    "#Calculate the chi-square test statistic\n",
    "\n",
    "chi2, p_val, dof, expected = stats.chi2_contingency(cont_table)\n",
    "\n",
    "#Print the value of p-value\n",
    "\n",
    "print(f\"p-value: {p_val}\")"
   ]
  },
  {
   "cell_type": "markdown",
   "id": "da2607f0",
   "metadata": {},
   "source": [
    "Step 5: The p-value obtained from the Chi-square test is smaller than the $\\alpha$ chosen of 0.05. Therefore, we reject the null hypothesis that there is no dependence between day and WorkingDay. In other words, we found evidence that the day and WorkingDay variables depend on each other."
   ]
  },
  {
   "cell_type": "markdown",
   "id": "3c65d3f6",
   "metadata": {},
   "source": [
    "## Part 6: Descriptive statistics of the subset  for England and Working day only."
   ]
  },
  {
   "cell_type": "code",
   "execution_count": 21,
   "id": "826fc7d4",
   "metadata": {},
   "outputs": [
    {
     "name": "stderr",
     "output_type": "stream",
     "text": [
      "/var/folders/js/r_0gjgwj091d92n_f7mxb7rc0000gp/T/ipykernel_37423/4023301856.py:3: UserWarning: Boolean Series key will be reindexed to match DataFrame index.\n",
      "  df1 = df[df.areaName == \"England\"][df.WorkingDay == \"Yes\"]\n"
     ]
    },
    {
     "data": {
      "text/html": [
       "<div>\n",
       "<style scoped>\n",
       "    .dataframe tbody tr th:only-of-type {\n",
       "        vertical-align: middle;\n",
       "    }\n",
       "\n",
       "    .dataframe tbody tr th {\n",
       "        vertical-align: top;\n",
       "    }\n",
       "\n",
       "    .dataframe thead th {\n",
       "        text-align: right;\n",
       "    }\n",
       "</style>\n",
       "<table border=\"1\" class=\"dataframe\">\n",
       "  <thead>\n",
       "    <tr style=\"text-align: right;\">\n",
       "      <th></th>\n",
       "      <th>year</th>\n",
       "      <th>month</th>\n",
       "      <th>FirstDose</th>\n",
       "      <th>SecondDose</th>\n",
       "      <th>ThirdDose</th>\n",
       "    </tr>\n",
       "  </thead>\n",
       "  <tbody>\n",
       "    <tr>\n",
       "      <th>count</th>\n",
       "      <td>168.00</td>\n",
       "      <td>168.00</td>\n",
       "      <td>168.00</td>\n",
       "      <td>168.00</td>\n",
       "      <td>168.00</td>\n",
       "    </tr>\n",
       "    <tr>\n",
       "      <th>mean</th>\n",
       "      <td>2021.60</td>\n",
       "      <td>6.14</td>\n",
       "      <td>17777.57</td>\n",
       "      <td>18739.35</td>\n",
       "      <td>140651.35</td>\n",
       "    </tr>\n",
       "    <tr>\n",
       "      <th>std</th>\n",
       "      <td>0.49</td>\n",
       "      <td>4.15</td>\n",
       "      <td>13890.40</td>\n",
       "      <td>9274.03</td>\n",
       "      <td>170884.74</td>\n",
       "    </tr>\n",
       "    <tr>\n",
       "      <th>min</th>\n",
       "      <td>2021.00</td>\n",
       "      <td>1.00</td>\n",
       "      <td>2925.00</td>\n",
       "      <td>2246.00</td>\n",
       "      <td>3193.00</td>\n",
       "    </tr>\n",
       "    <tr>\n",
       "      <th>25%</th>\n",
       "      <td>2021.00</td>\n",
       "      <td>3.00</td>\n",
       "      <td>7088.25</td>\n",
       "      <td>11231.75</td>\n",
       "      <td>14879.75</td>\n",
       "    </tr>\n",
       "    <tr>\n",
       "      <th>50%</th>\n",
       "      <td>2022.00</td>\n",
       "      <td>4.00</td>\n",
       "      <td>15058.00</td>\n",
       "      <td>18704.50</td>\n",
       "      <td>44283.50</td>\n",
       "    </tr>\n",
       "    <tr>\n",
       "      <th>75%</th>\n",
       "      <td>2022.00</td>\n",
       "      <td>11.00</td>\n",
       "      <td>25373.25</td>\n",
       "      <td>24411.50</td>\n",
       "      <td>240173.00</td>\n",
       "    </tr>\n",
       "    <tr>\n",
       "      <th>max</th>\n",
       "      <td>2022.00</td>\n",
       "      <td>12.00</td>\n",
       "      <td>115551.00</td>\n",
       "      <td>48491.00</td>\n",
       "      <td>809192.00</td>\n",
       "    </tr>\n",
       "  </tbody>\n",
       "</table>\n",
       "</div>"
      ],
      "text/plain": [
       "          year   month  FirstDose  SecondDose  ThirdDose\n",
       "count   168.00  168.00     168.00      168.00     168.00\n",
       "mean   2021.60    6.14   17777.57    18739.35  140651.35\n",
       "std       0.49    4.15   13890.40     9274.03  170884.74\n",
       "min    2021.00    1.00    2925.00     2246.00    3193.00\n",
       "25%    2021.00    3.00    7088.25    11231.75   14879.75\n",
       "50%    2022.00    4.00   15058.00    18704.50   44283.50\n",
       "75%    2022.00   11.00   25373.25    24411.50  240173.00\n",
       "max    2022.00   12.00  115551.00    48491.00  809192.00"
      ]
     },
     "execution_count": 21,
     "metadata": {},
     "output_type": "execute_result"
    }
   ],
   "source": [
    "#Create a subset called df1\n",
    "#with the areaName is England only and WorkingDay equals Yes\n",
    "df1 = df[df.areaName == \"England\"][df.WorkingDay == \"Yes\"]\n",
    "\n",
    "#Get the descriptive statistics of the df1 subset\n",
    "df1.describe().round(2)"
   ]
  },
  {
   "cell_type": "markdown",
   "id": "6bf59e05",
   "metadata": {},
   "source": [
    "The most important thing obtained is the fact that the mean approximately equals the median in all three numerical variables. It indicates that the distribution of FirstDose, SecondDose, and ThirdDose in England on working days is closely symmetric."
   ]
  },
  {
   "cell_type": "markdown",
   "id": "933d9fee",
   "metadata": {},
   "source": [
    "## Part 7: The Difference between the Mean of FirstDose in England and Wales"
   ]
  },
  {
   "cell_type": "code",
   "execution_count": 22,
   "id": "8261e182",
   "metadata": {},
   "outputs": [
    {
     "data": {
      "text/plain": [
       "16869.427966101695"
      ]
     },
     "execution_count": 22,
     "metadata": {},
     "output_type": "execute_result"
    }
   ],
   "source": [
    "#Get the data of FirstDose with areaName == \"England\"\n",
    "first_england = df[df[\"areaName\"] == \"England\"][\"FirstDose\"]\n",
    "\n",
    "#Calculate the fist_england mean\n",
    "first_england.mean()"
   ]
  },
  {
   "cell_type": "code",
   "execution_count": 23,
   "id": "21c1b2c7",
   "metadata": {},
   "outputs": [
    {
     "data": {
      "text/plain": [
       "663.047619047619"
      ]
     },
     "execution_count": 23,
     "metadata": {},
     "output_type": "execute_result"
    }
   ],
   "source": [
    "#Get the data of FirstDose with areaName == \"Wales\"\n",
    "first_wales = df[df[\"areaName\"] == \"Wales\"][\"FirstDose\"]\n",
    "\n",
    "#Calculate the fist_wales mean\n",
    "first_wales.mean()"
   ]
  },
  {
   "cell_type": "markdown",
   "id": "c0cc95e2",
   "metadata": {},
   "source": [
    "Step 1:\n",
    "\n",
    "- The null hypothesis is that the difference between the two population means equals 0 ($H_0: \\mu = 0$)\n",
    "\n",
    "- The alternative hypothesis is that the mean of FirstDose in England is significantly lower or higher than the mean of FirstDose in Wales. ($H_A: \\mu \\ne 0$)\n",
    "\n",
    "Step 2: For this case, the independent two-sample t-test will be used due to the fact that we have two unrelated test sample.\n",
    "\n",
    "Step 3: For the independent two-sample t-test test, the usual significance level used is 0.05.\n",
    "\n",
    "Step 4: Calculate the test statistic"
   ]
  },
  {
   "cell_type": "code",
   "execution_count": 24,
   "id": "622b1b36",
   "metadata": {},
   "outputs": [
    {
     "name": "stdout",
     "output_type": "stream",
     "text": [
      "t-value: 18.39925041256226, p-value: 1.3188267434471777e-56\n"
     ]
    }
   ],
   "source": [
    "t_val, p_val = stats.ttest_ind(first_england, \n",
    "                               first_wales)\n",
    "\n",
    "print(f\"t-value: {t_val}, p-value: {p_val}\")"
   ]
  },
  {
   "cell_type": "markdown",
   "id": "332afca5",
   "metadata": {},
   "source": [
    "Step 5: The p-value obtained is smaller than the $\\alpha$ chosen of 0.05. Therefore, we reject the null hypothesis that the difference between the two population means equals 0. In other words, the difference between the mean of the first_england and first_wales sample is not equal to 0."
   ]
  },
  {
   "cell_type": "markdown",
   "id": "bc54b33f",
   "metadata": {},
   "source": [
    "## Part 8: Summarized Information for each area"
   ]
  },
  {
   "cell_type": "code",
   "execution_count": 25,
   "id": "37921781",
   "metadata": {},
   "outputs": [
    {
     "name": "stderr",
     "output_type": "stream",
     "text": [
      "/var/folders/js/r_0gjgwj091d92n_f7mxb7rc0000gp/T/ipykernel_37423/2070789406.py:4: FutureWarning: Indexing with multiple keys (implicitly converted to a tuple of keys) will be deprecated, use a list instead.\n",
      "  df.groupby(\"areaName\")[\"FirstDose\",\n"
     ]
    },
    {
     "data": {
      "text/html": [
       "<div>\n",
       "<style scoped>\n",
       "    .dataframe tbody tr th:only-of-type {\n",
       "        vertical-align: middle;\n",
       "    }\n",
       "\n",
       "    .dataframe tbody tr th {\n",
       "        vertical-align: top;\n",
       "    }\n",
       "\n",
       "    .dataframe thead tr th {\n",
       "        text-align: left;\n",
       "    }\n",
       "\n",
       "    .dataframe thead tr:last-of-type th {\n",
       "        text-align: right;\n",
       "    }\n",
       "</style>\n",
       "<table border=\"1\" class=\"dataframe\">\n",
       "  <thead>\n",
       "    <tr>\n",
       "      <th></th>\n",
       "      <th colspan=\"2\" halign=\"left\">FirstDose</th>\n",
       "      <th colspan=\"2\" halign=\"left\">SecondDose</th>\n",
       "      <th colspan=\"2\" halign=\"left\">ThirdDose</th>\n",
       "    </tr>\n",
       "    <tr>\n",
       "      <th></th>\n",
       "      <th>mean</th>\n",
       "      <th>sum</th>\n",
       "      <th>mean</th>\n",
       "      <th>sum</th>\n",
       "      <th>mean</th>\n",
       "      <th>sum</th>\n",
       "    </tr>\n",
       "    <tr>\n",
       "      <th>areaName</th>\n",
       "      <th></th>\n",
       "      <th></th>\n",
       "      <th></th>\n",
       "      <th></th>\n",
       "      <th></th>\n",
       "      <th></th>\n",
       "    </tr>\n",
       "  </thead>\n",
       "  <tbody>\n",
       "    <tr>\n",
       "      <th>England</th>\n",
       "      <td>16869.43</td>\n",
       "      <td>3981185</td>\n",
       "      <td>18469.02</td>\n",
       "      <td>4358688</td>\n",
       "      <td>136262.10</td>\n",
       "      <td>32157855</td>\n",
       "    </tr>\n",
       "    <tr>\n",
       "      <th>Northern Ireland</th>\n",
       "      <td>496.45</td>\n",
       "      <td>117163</td>\n",
       "      <td>574.75</td>\n",
       "      <td>135641</td>\n",
       "      <td>4787.11</td>\n",
       "      <td>1129759</td>\n",
       "    </tr>\n",
       "    <tr>\n",
       "      <th>Scotland</th>\n",
       "      <td>1170.59</td>\n",
       "      <td>259872</td>\n",
       "      <td>1569.13</td>\n",
       "      <td>348347</td>\n",
       "      <td>14780.53</td>\n",
       "      <td>3281277</td>\n",
       "    </tr>\n",
       "    <tr>\n",
       "      <th>Wales</th>\n",
       "      <td>663.05</td>\n",
       "      <td>139240</td>\n",
       "      <td>870.53</td>\n",
       "      <td>182812</td>\n",
       "      <td>8411.21</td>\n",
       "      <td>1766355</td>\n",
       "    </tr>\n",
       "  </tbody>\n",
       "</table>\n",
       "</div>"
      ],
      "text/plain": [
       "                 FirstDose          SecondDose           ThirdDose          \n",
       "                      mean      sum       mean      sum       mean       sum\n",
       "areaName                                                                    \n",
       "England           16869.43  3981185   18469.02  4358688  136262.10  32157855\n",
       "Northern Ireland    496.45   117163     574.75   135641    4787.11   1129759\n",
       "Scotland           1170.59   259872    1569.13   348347   14780.53   3281277\n",
       "Wales               663.05   139240     870.53   182812    8411.21   1766355"
      ]
     },
     "execution_count": 25,
     "metadata": {},
     "output_type": "execute_result"
    }
   ],
   "source": [
    "#Group the dataset by \"areaName\"\n",
    "#get the mean and sum of each Dose variable\n",
    "\n",
    "df.groupby(\"areaName\")[\"FirstDose\", \n",
    "                       \"SecondDose\", \n",
    "                       \"ThirdDose\"].aggregate([\"mean\", \n",
    "                                               \"sum\"]).round(2)"
   ]
  },
  {
   "cell_type": "markdown",
   "id": "a5f81aab",
   "metadata": {},
   "source": [
    "The table above reveals the summarized information for each area in the dataset. For instance, England has the highest mean and total number in terms of all three doses, which results from its extremely high population compared to other regions."
   ]
  },
  {
   "cell_type": "markdown",
   "id": "27a96d9e",
   "metadata": {},
   "source": [
    "## Part 9: Linear Regression Model"
   ]
  },
  {
   "cell_type": "markdown",
   "id": "57f239ab",
   "metadata": {},
   "source": [
    "Before forming a multiple linear regression model, we need to investigate further the correlation between independent variables to reduce the multicollinearity possibility in the final model. There are some potential pairs of variables below that need to be checked:\n",
    "\n",
    "- Day and Workingday:\n",
    "\n",
    "These two variables have been proved to be dependent in part 5 earlier so only one of two will be selected for our model. To get the most parsimonious model, we will use workingday as one of the dummy variables with one stands for a working day and 0 stands for a non-working day. The function below will convert from workingday to the dummy variable, WorkingDay."
   ]
  },
  {
   "cell_type": "code",
   "execution_count": 26,
   "id": "ab4293b7",
   "metadata": {},
   "outputs": [],
   "source": [
    "#Define a function to return a dummy variable for WorkingDay\n",
    "def Workingday_Convert(x):\n",
    "    #If it is a working day\n",
    "    if x == \"Yes\":\n",
    "        return 1\n",
    "    #If it is not a working day\n",
    "    else:\n",
    "        return 0\n",
    "#Create a new column for the dummy variable of WorkingDay \n",
    "#by apply the above function\n",
    "df[\"workingday\"] = df[\"WorkingDay\"].apply(Workingday_Convert)"
   ]
  },
  {
   "cell_type": "markdown",
   "id": "ea6ec05f",
   "metadata": {},
   "source": [
    "- Quarter and Month:"
   ]
  },
  {
   "cell_type": "code",
   "execution_count": 27,
   "id": "0f3c98ff",
   "metadata": {},
   "outputs": [
    {
     "data": {
      "text/plain": [
       "0.9814036970855782"
      ]
     },
     "execution_count": 27,
     "metadata": {},
     "output_type": "execute_result"
    }
   ],
   "source": [
    "#Define a function to return the integer number of each quarter\n",
    "def quarter_convert(x):\n",
    "    #Return the integer number of each quarter\n",
    "    return int(x[-1])\n",
    "\n",
    "#Create a new column for the quarter value by apply the above function\n",
    "df[\"quarter\"] = df[\"Quarter\"].apply(quarter_convert)\n",
    "\n",
    "#Get the Pearson correlation coefficient between month and quarter\n",
    "df['month'].corr(df['quarter'], \n",
    "                 method='pearson')"
   ]
  },
  {
   "cell_type": "markdown",
   "id": "55c4baf3",
   "metadata": {},
   "source": [
    "From the result obtained, there is a significant relationship between month and quarter. Therefore, only one will be considered in the final model. As mentioned in part 4, there is a lack of data in the third quarter, so month will be the selected one.\n",
    "\n",
    "Besides, based on the data from part 8, areaName can be converted into a dummy variable with 1 stands for England for its extremely high population and 0 stands for the other three regions:"
   ]
  },
  {
   "cell_type": "code",
   "execution_count": 28,
   "id": "718f2901",
   "metadata": {},
   "outputs": [],
   "source": [
    "#Define a function to return a dummy variable for areaName\n",
    "def areaName_Convert(x):\n",
    "    #If it is England\n",
    "    if x == \"England\":\n",
    "        return 1\n",
    "    #If it is not England:\n",
    "        return 0\n",
    "#Apply the function above to convert Area into dummy variables\n",
    "df[\"Area\"] = df[\"areaName\"].apply(areaName_Convert)"
   ]
  },
  {
   "cell_type": "markdown",
   "id": "9b9b1fa1",
   "metadata": {},
   "source": [
    "Finally, the dependent variable is the daily total number of vaccinated people. It can be calculated by taking the sum of all three doses variable in each day:"
   ]
  },
  {
   "cell_type": "code",
   "execution_count": 29,
   "id": "45c47db0",
   "metadata": {},
   "outputs": [],
   "source": [
    "#Create a variable represents the daily total number of vaccinated people\n",
    "df[\"TotalPeople\"] = df[\"FirstDose\"] + df[\"SecondDose\"] + df[\"ThirdDose\"]"
   ]
  },
  {
   "cell_type": "markdown",
   "id": "9ba62d24",
   "metadata": {},
   "source": [
    "To summarise, the final model will have \"TotalPeople\" as the dependent variable and the independent variables are: \"Area\", \"year\", \"month\", and \"workingday\"."
   ]
  },
  {
   "cell_type": "code",
   "execution_count": 30,
   "id": "3b77ae47",
   "metadata": {},
   "outputs": [
    {
     "data": {
      "text/html": [
       "<table class=\"simpletable\">\n",
       "<caption>OLS Regression Results</caption>\n",
       "<tr>\n",
       "  <th>Dep. Variable:</th>       <td>TotalPeople</td>   <th>  R-squared:         </th> <td>   0.594</td>\n",
       "</tr>\n",
       "<tr>\n",
       "  <th>Model:</th>                   <td>OLS</td>       <th>  Adj. R-squared:    </th> <td>   0.589</td>\n",
       "</tr>\n",
       "<tr>\n",
       "  <th>Method:</th>             <td>Least Squares</td>  <th>  F-statistic:       </th> <td>   113.2</td>\n",
       "</tr>\n",
       "<tr>\n",
       "  <th>Date:</th>             <td>Mon, 11 Dec 2023</td> <th>  Prob (F-statistic):</th> <td>3.51e-45</td>\n",
       "</tr>\n",
       "<tr>\n",
       "  <th>Time:</th>                 <td>22:40:05</td>     <th>  Log-Likelihood:    </th> <td> -3093.6</td>\n",
       "</tr>\n",
       "<tr>\n",
       "  <th>No. Observations:</th>      <td>   236</td>      <th>  AIC:               </th> <td>   6195.</td>\n",
       "</tr>\n",
       "<tr>\n",
       "  <th>Df Residuals:</th>          <td>   232</td>      <th>  BIC:               </th> <td>   6209.</td>\n",
       "</tr>\n",
       "<tr>\n",
       "  <th>Df Model:</th>              <td>     3</td>      <th>                     </th>     <td> </td>   \n",
       "</tr>\n",
       "<tr>\n",
       "  <th>Covariance Type:</th>      <td>nonrobust</td>    <th>                     </th>     <td> </td>   \n",
       "</tr>\n",
       "</table>\n",
       "<table class=\"simpletable\">\n",
       "<tr>\n",
       "       <td></td>         <th>coef</th>     <th>std err</th>      <th>t</th>      <th>P>|t|</th>  <th>[0.025</th>    <th>0.975]</th>  \n",
       "</tr>\n",
       "<tr>\n",
       "  <th>Intercept</th>  <td> 2.717e+08</td> <td> 5.58e+07</td> <td>    4.869</td> <td> 0.000</td> <td> 1.62e+08</td> <td> 3.82e+08</td>\n",
       "</tr>\n",
       "<tr>\n",
       "  <th>Area</th>       <td> 2.717e+08</td> <td> 5.58e+07</td> <td>    4.869</td> <td> 0.000</td> <td> 1.62e+08</td> <td> 3.82e+08</td>\n",
       "</tr>\n",
       "<tr>\n",
       "  <th>year</th>       <td>-2.688e+05</td> <td> 5.52e+04</td> <td>   -4.869</td> <td> 0.000</td> <td>-3.78e+05</td> <td> -1.6e+05</td>\n",
       "</tr>\n",
       "<tr>\n",
       "  <th>month</th>      <td> 3220.7072</td> <td> 6540.043</td> <td>    0.492</td> <td> 0.623</td> <td>-9664.760</td> <td> 1.61e+04</td>\n",
       "</tr>\n",
       "<tr>\n",
       "  <th>workingday</th> <td> 1.432e+04</td> <td> 1.73e+04</td> <td>    0.828</td> <td> 0.409</td> <td>-1.98e+04</td> <td> 4.84e+04</td>\n",
       "</tr>\n",
       "</table>\n",
       "<table class=\"simpletable\">\n",
       "<tr>\n",
       "  <th>Omnibus:</th>       <td>113.335</td> <th>  Durbin-Watson:     </th> <td>   0.407</td> \n",
       "</tr>\n",
       "<tr>\n",
       "  <th>Prob(Omnibus):</th> <td> 0.000</td>  <th>  Jarque-Bera (JB):  </th> <td> 585.982</td> \n",
       "</tr>\n",
       "<tr>\n",
       "  <th>Skew:</th>          <td> 1.883</td>  <th>  Prob(JB):          </th> <td>5.70e-128</td>\n",
       "</tr>\n",
       "<tr>\n",
       "  <th>Kurtosis:</th>      <td> 9.739</td>  <th>  Cond. No.          </th> <td>6.82e+18</td> \n",
       "</tr>\n",
       "</table><br/><br/>Notes:<br/>[1] Standard Errors assume that the covariance matrix of the errors is correctly specified.<br/>[2] The smallest eigenvalue is 2.07e-29. This might indicate that there are<br/>strong multicollinearity problems or that the design matrix is singular."
      ],
      "text/latex": [
       "\\begin{center}\n",
       "\\begin{tabular}{lclc}\n",
       "\\toprule\n",
       "\\textbf{Dep. Variable:}    &   TotalPeople    & \\textbf{  R-squared:         } &     0.594   \\\\\n",
       "\\textbf{Model:}            &       OLS        & \\textbf{  Adj. R-squared:    } &     0.589   \\\\\n",
       "\\textbf{Method:}           &  Least Squares   & \\textbf{  F-statistic:       } &     113.2   \\\\\n",
       "\\textbf{Date:}             & Mon, 11 Dec 2023 & \\textbf{  Prob (F-statistic):} &  3.51e-45   \\\\\n",
       "\\textbf{Time:}             &     22:40:05     & \\textbf{  Log-Likelihood:    } &   -3093.6   \\\\\n",
       "\\textbf{No. Observations:} &         236      & \\textbf{  AIC:               } &     6195.   \\\\\n",
       "\\textbf{Df Residuals:}     &         232      & \\textbf{  BIC:               } &     6209.   \\\\\n",
       "\\textbf{Df Model:}         &           3      & \\textbf{                     } &             \\\\\n",
       "\\textbf{Covariance Type:}  &    nonrobust     & \\textbf{                     } &             \\\\\n",
       "\\bottomrule\n",
       "\\end{tabular}\n",
       "\\begin{tabular}{lcccccc}\n",
       "                    & \\textbf{coef} & \\textbf{std err} & \\textbf{t} & \\textbf{P$> |$t$|$} & \\textbf{[0.025} & \\textbf{0.975]}  \\\\\n",
       "\\midrule\n",
       "\\textbf{Intercept}  &    2.717e+08  &     5.58e+07     &     4.869  &         0.000        &     1.62e+08    &     3.82e+08     \\\\\n",
       "\\textbf{Area}       &    2.717e+08  &     5.58e+07     &     4.869  &         0.000        &     1.62e+08    &     3.82e+08     \\\\\n",
       "\\textbf{year}       &   -2.688e+05  &     5.52e+04     &    -4.869  &         0.000        &    -3.78e+05    &     -1.6e+05     \\\\\n",
       "\\textbf{month}      &    3220.7072  &     6540.043     &     0.492  &         0.623        &    -9664.760    &     1.61e+04     \\\\\n",
       "\\textbf{workingday} &    1.432e+04  &     1.73e+04     &     0.828  &         0.409        &    -1.98e+04    &     4.84e+04     \\\\\n",
       "\\bottomrule\n",
       "\\end{tabular}\n",
       "\\begin{tabular}{lclc}\n",
       "\\textbf{Omnibus:}       & 113.335 & \\textbf{  Durbin-Watson:     } &     0.407  \\\\\n",
       "\\textbf{Prob(Omnibus):} &   0.000 & \\textbf{  Jarque-Bera (JB):  } &   585.982  \\\\\n",
       "\\textbf{Skew:}          &   1.883 & \\textbf{  Prob(JB):          } & 5.70e-128  \\\\\n",
       "\\textbf{Kurtosis:}      &   9.739 & \\textbf{  Cond. No.          } &  6.82e+18  \\\\\n",
       "\\bottomrule\n",
       "\\end{tabular}\n",
       "%\\caption{OLS Regression Results}\n",
       "\\end{center}\n",
       "\n",
       "Notes: \\newline\n",
       " [1] Standard Errors assume that the covariance matrix of the errors is correctly specified. \\newline\n",
       " [2] The smallest eigenvalue is 2.07e-29. This might indicate that there are \\newline\n",
       " strong multicollinearity problems or that the design matrix is singular."
      ],
      "text/plain": [
       "<class 'statsmodels.iolib.summary.Summary'>\n",
       "\"\"\"\n",
       "                            OLS Regression Results                            \n",
       "==============================================================================\n",
       "Dep. Variable:            TotalPeople   R-squared:                       0.594\n",
       "Model:                            OLS   Adj. R-squared:                  0.589\n",
       "Method:                 Least Squares   F-statistic:                     113.2\n",
       "Date:                Mon, 11 Dec 2023   Prob (F-statistic):           3.51e-45\n",
       "Time:                        22:40:05   Log-Likelihood:                -3093.6\n",
       "No. Observations:                 236   AIC:                             6195.\n",
       "Df Residuals:                     232   BIC:                             6209.\n",
       "Df Model:                           3                                         \n",
       "Covariance Type:            nonrobust                                         \n",
       "==============================================================================\n",
       "                 coef    std err          t      P>|t|      [0.025      0.975]\n",
       "------------------------------------------------------------------------------\n",
       "Intercept   2.717e+08   5.58e+07      4.869      0.000    1.62e+08    3.82e+08\n",
       "Area        2.717e+08   5.58e+07      4.869      0.000    1.62e+08    3.82e+08\n",
       "year       -2.688e+05   5.52e+04     -4.869      0.000   -3.78e+05    -1.6e+05\n",
       "month       3220.7072   6540.043      0.492      0.623   -9664.760    1.61e+04\n",
       "workingday  1.432e+04   1.73e+04      0.828      0.409   -1.98e+04    4.84e+04\n",
       "==============================================================================\n",
       "Omnibus:                      113.335   Durbin-Watson:                   0.407\n",
       "Prob(Omnibus):                  0.000   Jarque-Bera (JB):              585.982\n",
       "Skew:                           1.883   Prob(JB):                    5.70e-128\n",
       "Kurtosis:                       9.739   Cond. No.                     6.82e+18\n",
       "==============================================================================\n",
       "\n",
       "Notes:\n",
       "[1] Standard Errors assume that the covariance matrix of the errors is correctly specified.\n",
       "[2] The smallest eigenvalue is 2.07e-29. This might indicate that there are\n",
       "strong multicollinearity problems or that the design matrix is singular.\n",
       "\"\"\""
      ]
     },
     "execution_count": 30,
     "metadata": {},
     "output_type": "execute_result"
    }
   ],
   "source": [
    "#Create a linear regression model\n",
    "model = sm.OLS.from_formula(\n",
    "    'TotalPeople ~ Area + year + month + workingday', data=df).fit()\n",
    "#Call out the summary table of the model\n",
    "model.summary()"
   ]
  },
  {
   "cell_type": "markdown",
   "id": "c08644b9",
   "metadata": {},
   "source": [
    "Here is the final model to predict the number of people vaccinated in a day:\n",
    "\n",
    "$TotalPeople = 271,700,000 + 271,700,000*Area - 268,800*year + 3,220.7072*month + 14,320*workingday$\n",
    "\n",
    "**1) Coefficient of variables:**\n",
    "\n",
    "Based on the sign of these coefficients, it is clear to state that year has a negative influence on TotalPeople. The higher the year is, the smaller the total people is. Meanwhile, all others have a positive impact on the dependent variable. For example, if it is a working day, the number of vaccinated people will rise by 14,320 compared with a non-working day.\n",
    "\n",
    "**2) Significance of variables:**\n",
    "\n",
    "The p-values of all variables are significant, except for the month and workingday. Therefore, Area and year have significant effects on the total number of people vaccinated in a day, while month and workingday do not. \n",
    "\n",
    "**3) Quality of the model:**\n",
    "\n",
    "The adjusted $R^2$ is approximately 0.59, which indicates the model only helps to explain 59% of the total number of dependent values obtained in the dataset. With this result from the adjusted $R^2$, it can be considered a good model to predict the dependent variables. However, before coming to a conclusion, it is necessary to test the assumptions of normality and zero mean of the residuals.\n",
    "\n",
    "**4) Checking the assumptions of normality and zero mean of residuals:**\n",
    "    \n",
    "    a. Standardized Residuals:"
   ]
  },
  {
   "cell_type": "code",
   "execution_count": 31,
   "id": "954a38d6",
   "metadata": {},
   "outputs": [
    {
     "data": {
      "text/html": [
       "\n",
       "  <div id=\"afef69e3-fa62-4370-9c77-1a744d392d38\" data-root-id=\"p1001\" style=\"display: contents;\"></div>\n"
      ]
     },
     "metadata": {},
     "output_type": "display_data"
    },
    {
     "data": {
      "application/javascript": [
       "(function(root) {\n",
       "  function embed_document(root) {\n",
       "  const docs_json = {\"3d76bf8d-e370-4a45-add9-66e0565b1c98\":{\"version\":\"3.2.1\",\"title\":\"Bokeh Application\",\"roots\":[{\"type\":\"object\",\"name\":\"Figure\",\"id\":\"p1001\",\"attributes\":{\"width\":400,\"height\":400,\"x_range\":{\"type\":\"object\",\"name\":\"DataRange1d\",\"id\":\"p1002\"},\"y_range\":{\"type\":\"object\",\"name\":\"DataRange1d\",\"id\":\"p1003\"},\"x_scale\":{\"type\":\"object\",\"name\":\"LinearScale\",\"id\":\"p1010\"},\"y_scale\":{\"type\":\"object\",\"name\":\"LinearScale\",\"id\":\"p1011\"},\"title\":{\"type\":\"object\",\"name\":\"Title\",\"id\":\"p1008\"},\"renderers\":[{\"type\":\"object\",\"name\":\"GlyphRenderer\",\"id\":\"p1035\",\"attributes\":{\"data_source\":{\"type\":\"object\",\"name\":\"ColumnDataSource\",\"id\":\"p1029\",\"attributes\":{\"selected\":{\"type\":\"object\",\"name\":\"Selection\",\"id\":\"p1030\",\"attributes\":{\"indices\":[],\"line_indices\":[]}},\"selection_policy\":{\"type\":\"object\",\"name\":\"UnionRenderers\",\"id\":\"p1031\"},\"data\":{\"type\":\"map\",\"entries\":[[\"x\",{\"type\":\"ndarray\",\"array\":{\"type\":\"bytes\",\"data\":\"qmOK4f8w8EAAwGgCVmTpQADAaAJWZOlAqmOK4f8w8ECqY4rh/zDwQKpjiuH/MPBAqmOK4f8w8ECqY4rh/zDwQADAaAJWZOlAAMBoAlZk6UCqY4rh/zDwQKpjiuH/MPBAqmOK4f8w8ECqY4rh/zDwQKpjiuH/MPBAAMBoAlZk6UAAwGgCVmTpQKpjiuH/MPBAqmOK4f8w8ECqY4rh/zDwQKpjiuH/MPBAqmOK4f8w8EAAwGgCVmTpQABg32C/0edAVGeLIWnP7kBUZ4shac/uQFRniyFpz+5AVGeLIWnP7kBUZ4shac/uQABg32C/0edAAGDfYL/R50BUZ4shac/uQFRniyFpz+5AVGeLIWnP7kBUZ4shac/uQFRniyFpz+5AAGDfYL/R50AAYN9gv9HnQFRniyFpz+5AVGeLIWnP7kBUZ4shac/uQFRniyFpz+5AVGeLIWnP7kAAYN9gv9HnQABg32C/0edAVGeLIWnP7kBUZ4shac/uQFRniyFpz+5AVGeLIWnP7kBUZ4shac/uQABg32C/0edAAGDfYL/R50BUZ4shac/uQFQHAoDSPO1AVAcCgNI87UBUBwKA0jztQFQHAoDSPO1AAABWvyg/5kAAAFa/KD/mQFQHAoDSPO1AVAcCgNI87UBUBwKA0jztQFQHAoDSPO1AVAcCgNI87UAAAFa/KD/mQAAAVr8oP+ZAVAcCgNI87UBUBwKA0jztQFQHAoDSPO1AVAcCgNI87UBUBwKA0jztQAAAVr8oP+ZAAABWvyg/5kBUBwKA0jztQFQHAoDSPO1AVAcCgNI87UBUBwKA0jztQFQHAoDSPO1AAABWvyg/5kAAAFa/KD/mQFQHAoDSPO1AVAcCgNI87UBUBwKA0jztQFQHAoDSPO1AVKd43juq60AAoMwdkqzkQACgzB2SrORAVKd43juq60BUp3jeO6rrQFSneN47qutAVKd43juq60BUp3jeO6rrQACgzB2SrORAAKDMHZKs5EBUp3jeO6rrQFSneN47qutAVKd43juq60BUp3jeO6rrQFSneN47qutAAKDMHZKs5EAAoMwdkqzkQFSneN47qutAVKd43juq60BUp3jeO6rrQFSneN47qutAVKd43juq60AAoMwdkqzkQACgzB2SrORAVKd43juq60BUp3jeO6rrQFSneN47qutAVKd43juq60BUR+88pRfqQABAQ3z7GeNAAEBDfPsZ40BUR+88pRfqQFRH7zylF+pAVEfvPKUX6kBUR+88pRfqQFRH7zylF+pAAEBDfPsZ40AAQEN8+xnjQFRH7zylF+pAVEfvPKUX6kBUR+88pRfqQFRH7zylF+pAVEfvPKUX6kAAQEN8+xnjQABAQ3z7GeNAVEfvPKUX6kBUR+88pRfqQFRH7zylF+pAVEfvPKUX6kBUR+88pRfqQABAQ3z7GeNAAEBDfPsZ40BUR+88pRfqQFRH7zylF+pAVEfvPKUX6kBUR+88pRfqQFRH7zylF+pAAEBDfPsZ40AAQEN8+xnjQOooc8/90xVB6ihzz/3TFUHqKHPP/dMVQeooc8/90xVB6ihzz/3TFUEAqF2XSPQUQQCoXZdI9BRB6ihzz/3TFUHqKHPP/dMVQeooc8/90xVB6ihzz/3TFUHqKHPP/dMVQQCoXZdI9BRBAKhdl0j0FEHqKHPP/dMVQeooc8/90xVB6ihzz/3TFUHqKHPP/dMVQeooc8/90xVBAKhdl0j0FEEAqF2XSPQUQeooc8/90xVB6ihzz/3TFUHqKHPP/dMVQeooc8/90xVB6ihzz/3TFUEAqF2XSPQUQQCoXZdI9BRB6ihzz/3TFUHqKHPP/dMVQeooc8/90xVB6vxB+6qhFUHq/EH7qqEVQQB8LMP1wRRBAHwsw/XBFEHq/EH7qqEVQer8QfuqoRVB6vxB+6qhFUHq/EH7qqEVQer8QfuqoRVBAHwsw/XBFEEAfCzD9cEUQer8QfuqoRVB6vxB+6qhFUHq/EH7qqEVQer8QfuqoRVB6vxB+6qhFUEAfCzD9cEUQQB8LMP1wRRB6vxB+6qhFUHq/EH7qqEVQer8QfuqoRVB6vxB+6qhFUHq/EH7qqEVQQB8LMP1wRRBAHwsw/XBFEHq/EH7qqEVQer8QfuqoRVB6vxB+6qhFUHq/EH7qqEVQer8QfuqoRVBAFD77qKPFEEAUPvuoo8UQerQECdYbxVB6tAQJ1hvFUHq0BAnWG8VQerQECdYbxVB6tAQJ1hvFUEAUPvuoo8UQQBQ++6ijxRB6tAQJ1hvFUHq0BAnWG8VQerQECdYbxVB6tAQJ1hvFUHq0BAnWG8VQQBQ++6ijxRBAFD77qKPFEHq0BAnWG8VQerQECdYbxVB6tAQJ1hvFUHq0BAnWG8VQerQECdYbxVBAFD77qKPFEEAUPvuoo8UQerQECdYbxVB6tAQJ1hvFUHq0BAnWG8VQerQECdYbxVB6tAQJ1hvFUEAUPvuoo8UQQBQ++6ijxRB6tAQJ1hvFUHqpN9SBT0VQQ==\"},\"shape\":[236],\"dtype\":\"float64\",\"order\":\"little\"}],[\"y\",{\"type\":\"ndarray\",\"array\":{\"type\":\"bytes\",\"data\":\"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\"},\"shape\":[236],\"dtype\":\"float64\",\"order\":\"little\"}]]}}},\"view\":{\"type\":\"object\",\"name\":\"CDSView\",\"id\":\"p1036\",\"attributes\":{\"filter\":{\"type\":\"object\",\"name\":\"AllIndices\",\"id\":\"p1037\"}}},\"glyph\":{\"type\":\"object\",\"name\":\"Circle\",\"id\":\"p1032\",\"attributes\":{\"x\":{\"type\":\"field\",\"field\":\"x\"},\"y\":{\"type\":\"field\",\"field\":\"y\"},\"line_color\":{\"type\":\"value\",\"value\":\"#1f77b4\"},\"fill_color\":{\"type\":\"value\",\"value\":\"#1f77b4\"}}},\"nonselection_glyph\":{\"type\":\"object\",\"name\":\"Circle\",\"id\":\"p1033\",\"attributes\":{\"x\":{\"type\":\"field\",\"field\":\"x\"},\"y\":{\"type\":\"field\",\"field\":\"y\"},\"line_color\":{\"type\":\"value\",\"value\":\"#1f77b4\"},\"line_alpha\":{\"type\":\"value\",\"value\":0.1},\"fill_color\":{\"type\":\"value\",\"value\":\"#1f77b4\"},\"fill_alpha\":{\"type\":\"value\",\"value\":0.1},\"hatch_alpha\":{\"type\":\"value\",\"value\":0.1}}},\"muted_glyph\":{\"type\":\"object\",\"name\":\"Circle\",\"id\":\"p1034\",\"attributes\":{\"x\":{\"type\":\"field\",\"field\":\"x\"},\"y\":{\"type\":\"field\",\"field\":\"y\"},\"line_color\":{\"type\":\"value\",\"value\":\"#1f77b4\"},\"line_alpha\":{\"type\":\"value\",\"value\":0.2},\"fill_color\":{\"type\":\"value\",\"value\":\"#1f77b4\"},\"fill_alpha\":{\"type\":\"value\",\"value\":0.2},\"hatch_alpha\":{\"type\":\"value\",\"value\":0.2}}}}}],\"toolbar\":{\"type\":\"object\",\"name\":\"Toolbar\",\"id\":\"p1009\",\"attributes\":{\"tools\":[{\"type\":\"object\",\"name\":\"PanTool\",\"id\":\"p1022\"},{\"type\":\"object\",\"name\":\"WheelZoomTool\",\"id\":\"p1023\"},{\"type\":\"object\",\"name\":\"BoxZoomTool\",\"id\":\"p1024\",\"attributes\":{\"overlay\":{\"type\":\"object\",\"name\":\"BoxAnnotation\",\"id\":\"p1025\",\"attributes\":{\"syncable\":false,\"level\":\"overlay\",\"visible\":false,\"left_units\":\"canvas\",\"right_units\":\"canvas\",\"bottom_units\":\"canvas\",\"top_units\":\"canvas\",\"line_color\":\"black\",\"line_alpha\":1.0,\"line_width\":2,\"line_dash\":[4,4],\"fill_color\":\"lightgrey\",\"fill_alpha\":0.5}}}},{\"type\":\"object\",\"name\":\"SaveTool\",\"id\":\"p1026\"},{\"type\":\"object\",\"name\":\"ResetTool\",\"id\":\"p1027\"},{\"type\":\"object\",\"name\":\"HelpTool\",\"id\":\"p1028\"}]}},\"left\":[{\"type\":\"object\",\"name\":\"LinearAxis\",\"id\":\"p1017\",\"attributes\":{\"ticker\":{\"type\":\"object\",\"name\":\"BasicTicker\",\"id\":\"p1018\",\"attributes\":{\"mantissas\":[1,2,5]}},\"formatter\":{\"type\":\"object\",\"name\":\"BasicTickFormatter\",\"id\":\"p1019\"},\"major_label_policy\":{\"type\":\"object\",\"name\":\"AllLabels\",\"id\":\"p1020\"}}}],\"below\":[{\"type\":\"object\",\"name\":\"LinearAxis\",\"id\":\"p1012\",\"attributes\":{\"ticker\":{\"type\":\"object\",\"name\":\"BasicTicker\",\"id\":\"p1013\",\"attributes\":{\"mantissas\":[1,2,5]}},\"formatter\":{\"type\":\"object\",\"name\":\"BasicTickFormatter\",\"id\":\"p1014\"},\"major_label_policy\":{\"type\":\"object\",\"name\":\"AllLabels\",\"id\":\"p1015\"}}}],\"center\":[{\"type\":\"object\",\"name\":\"Grid\",\"id\":\"p1016\",\"attributes\":{\"axis\":{\"id\":\"p1012\"}}},{\"type\":\"object\",\"name\":\"Grid\",\"id\":\"p1021\",\"attributes\":{\"dimension\":1,\"axis\":{\"id\":\"p1017\"}}}]}}]}};\n",
       "  const render_items = [{\"docid\":\"3d76bf8d-e370-4a45-add9-66e0565b1c98\",\"roots\":{\"p1001\":\"afef69e3-fa62-4370-9c77-1a744d392d38\"},\"root_ids\":[\"p1001\"]}];\n",
       "  root.Bokeh.embed.embed_items_notebook(docs_json, render_items);\n",
       "  }\n",
       "  if (root.Bokeh !== undefined) {\n",
       "    embed_document(root);\n",
       "  } else {\n",
       "    let attempts = 0;\n",
       "    const timer = setInterval(function(root) {\n",
       "      if (root.Bokeh !== undefined) {\n",
       "        clearInterval(timer);\n",
       "        embed_document(root);\n",
       "      } else {\n",
       "        attempts++;\n",
       "        if (attempts > 100) {\n",
       "          clearInterval(timer);\n",
       "          console.log(\"Bokeh: ERROR: Unable to run BokehJS code because BokehJS library is missing\");\n",
       "        }\n",
       "      }\n",
       "    }, 10, root)\n",
       "  }\n",
       "})(window);"
      ],
      "application/vnd.bokehjs_exec.v0+json": ""
     },
     "metadata": {
      "application/vnd.bokehjs_exec.v0+json": {
       "id": "p1001"
      }
     },
     "output_type": "display_data"
    }
   ],
   "source": [
    "#Create a space to plot the residual distribution around 0 chart\n",
    "fig = figure(height=400, \n",
    "             width=400)\n",
    "\n",
    "# the x axis is the fitted values\n",
    "# the y axis is the standardized residuals\n",
    "st_resids = model.get_influence().resid_studentized_internal\n",
    "\n",
    "fig.circle(model.fittedvalues, \n",
    "           st_resids)\n",
    "\n",
    "#Show the chart\n",
    "show(fig)"
   ]
  },
  {
   "cell_type": "markdown",
   "id": "1145d466",
   "metadata": {},
   "source": [
    "The above plot displays the distribution of residuals around 0. To elaborate. the residuals in this graph are not distributed equally around 0 because there is a certain pattern of the dots inside the diagram."
   ]
  },
  {
   "cell_type": "markdown",
   "id": "4598a884",
   "metadata": {},
   "source": [
    "    b. Residuals Distribution:"
   ]
  },
  {
   "cell_type": "code",
   "execution_count": 32,
   "id": "c2a3fac7",
   "metadata": {},
   "outputs": [
    {
     "data": {
      "text/html": [
       "\n",
       "  <div id=\"eb9cbb83-0a42-47ad-b266-746e657d3983\" data-root-id=\"p1040\" style=\"display: contents;\"></div>\n"
      ]
     },
     "metadata": {},
     "output_type": "display_data"
    },
    {
     "data": {
      "application/javascript": [
       "(function(root) {\n",
       "  function embed_document(root) {\n",
       "  const docs_json = {\"3f7afba7-c75d-429e-993e-1711bacc4a39\":{\"version\":\"3.2.1\",\"title\":\"Bokeh Application\",\"roots\":[{\"type\":\"object\",\"name\":\"Figure\",\"id\":\"p1040\",\"attributes\":{\"width\":400,\"height\":400,\"x_range\":{\"type\":\"object\",\"name\":\"DataRange1d\",\"id\":\"p1041\"},\"y_range\":{\"type\":\"object\",\"name\":\"DataRange1d\",\"id\":\"p1042\"},\"x_scale\":{\"type\":\"object\",\"name\":\"LinearScale\",\"id\":\"p1049\"},\"y_scale\":{\"type\":\"object\",\"name\":\"LinearScale\",\"id\":\"p1050\"},\"title\":{\"type\":\"object\",\"name\":\"Title\",\"id\":\"p1047\"},\"renderers\":[{\"type\":\"object\",\"name\":\"GlyphRenderer\",\"id\":\"p1074\",\"attributes\":{\"data_source\":{\"type\":\"object\",\"name\":\"ColumnDataSource\",\"id\":\"p1068\",\"attributes\":{\"selected\":{\"type\":\"object\",\"name\":\"Selection\",\"id\":\"p1069\",\"attributes\":{\"indices\":[],\"line_indices\":[]}},\"selection_policy\":{\"type\":\"object\",\"name\":\"UnionRenderers\",\"id\":\"p1070\"},\"data\":{\"type\":\"map\",\"entries\":[[\"top\",{\"type\":\"ndarray\",\"array\":{\"type\":\"bytes\",\"data\":\"AgAAAAoAAAAYAAAAkAAAACMAAAAKAAAAAwAAAAEAAAAEAAAAAwAAAA==\"},\"shape\":[10],\"dtype\":\"int32\",\"order\":\"little\"}],[\"left\",{\"type\":\"ndarray\",\"array\":{\"type\":\"bytes\",\"data\":\"TH0Cq35IBsBe+IliE0MAwN7mIjRQe/S/ALpjRvPg4L/gZvlt59LMP3BtYP1mSu8/mEChDwqw+z86JUlQcN0DQCiqwZjb4glAFi864UboD0A=\"},\"shape\":[10],\"dtype\":\"float64\",\"order\":\"little\"}],[\"right\",{\"type\":\"ndarray\",\"array\":{\"type\":\"bytes\",\"data\":\"XviJYhNDAMDe5iI0UHv0vwC6Y0bz4OC/4Gb5befSzD9wbWD9ZkrvP5hAoQ8KsPs/OiVJUHDdA0AoqsGY2+IJQBYvOuFG6A9AA1rZFNn2EkA=\"},\"shape\":[10],\"dtype\":\"float64\",\"order\":\"little\"}]]}}},\"view\":{\"type\":\"object\",\"name\":\"CDSView\",\"id\":\"p1075\",\"attributes\":{\"filter\":{\"type\":\"object\",\"name\":\"AllIndices\",\"id\":\"p1076\"}}},\"glyph\":{\"type\":\"object\",\"name\":\"Quad\",\"id\":\"p1071\",\"attributes\":{\"left\":{\"type\":\"field\",\"field\":\"left\"},\"right\":{\"type\":\"field\",\"field\":\"right\"},\"bottom\":{\"type\":\"value\",\"value\":0},\"top\":{\"type\":\"field\",\"field\":\"top\"},\"line_color\":{\"type\":\"value\",\"value\":\"white\"},\"fill_color\":{\"type\":\"value\",\"value\":\"#1f77b4\"}}},\"nonselection_glyph\":{\"type\":\"object\",\"name\":\"Quad\",\"id\":\"p1072\",\"attributes\":{\"left\":{\"type\":\"field\",\"field\":\"left\"},\"right\":{\"type\":\"field\",\"field\":\"right\"},\"bottom\":{\"type\":\"value\",\"value\":0},\"top\":{\"type\":\"field\",\"field\":\"top\"},\"line_color\":{\"type\":\"value\",\"value\":\"white\"},\"line_alpha\":{\"type\":\"value\",\"value\":0.1},\"fill_color\":{\"type\":\"value\",\"value\":\"#1f77b4\"},\"fill_alpha\":{\"type\":\"value\",\"value\":0.1},\"hatch_alpha\":{\"type\":\"value\",\"value\":0.1}}},\"muted_glyph\":{\"type\":\"object\",\"name\":\"Quad\",\"id\":\"p1073\",\"attributes\":{\"left\":{\"type\":\"field\",\"field\":\"left\"},\"right\":{\"type\":\"field\",\"field\":\"right\"},\"bottom\":{\"type\":\"value\",\"value\":0},\"top\":{\"type\":\"field\",\"field\":\"top\"},\"line_color\":{\"type\":\"value\",\"value\":\"white\"},\"line_alpha\":{\"type\":\"value\",\"value\":0.2},\"fill_color\":{\"type\":\"value\",\"value\":\"#1f77b4\"},\"fill_alpha\":{\"type\":\"value\",\"value\":0.2},\"hatch_alpha\":{\"type\":\"value\",\"value\":0.2}}}}}],\"toolbar\":{\"type\":\"object\",\"name\":\"Toolbar\",\"id\":\"p1048\",\"attributes\":{\"tools\":[{\"type\":\"object\",\"name\":\"PanTool\",\"id\":\"p1061\"},{\"type\":\"object\",\"name\":\"WheelZoomTool\",\"id\":\"p1062\"},{\"type\":\"object\",\"name\":\"BoxZoomTool\",\"id\":\"p1063\",\"attributes\":{\"overlay\":{\"type\":\"object\",\"name\":\"BoxAnnotation\",\"id\":\"p1064\",\"attributes\":{\"syncable\":false,\"level\":\"overlay\",\"visible\":false,\"left_units\":\"canvas\",\"right_units\":\"canvas\",\"bottom_units\":\"canvas\",\"top_units\":\"canvas\",\"line_color\":\"black\",\"line_alpha\":1.0,\"line_width\":2,\"line_dash\":[4,4],\"fill_color\":\"lightgrey\",\"fill_alpha\":0.5}}}},{\"type\":\"object\",\"name\":\"SaveTool\",\"id\":\"p1065\"},{\"type\":\"object\",\"name\":\"ResetTool\",\"id\":\"p1066\"},{\"type\":\"object\",\"name\":\"HelpTool\",\"id\":\"p1067\"}]}},\"left\":[{\"type\":\"object\",\"name\":\"LinearAxis\",\"id\":\"p1056\",\"attributes\":{\"ticker\":{\"type\":\"object\",\"name\":\"BasicTicker\",\"id\":\"p1057\",\"attributes\":{\"mantissas\":[1,2,5]}},\"formatter\":{\"type\":\"object\",\"name\":\"BasicTickFormatter\",\"id\":\"p1058\"},\"major_label_policy\":{\"type\":\"object\",\"name\":\"AllLabels\",\"id\":\"p1059\"}}}],\"below\":[{\"type\":\"object\",\"name\":\"LinearAxis\",\"id\":\"p1051\",\"attributes\":{\"ticker\":{\"type\":\"object\",\"name\":\"BasicTicker\",\"id\":\"p1052\",\"attributes\":{\"mantissas\":[1,2,5]}},\"formatter\":{\"type\":\"object\",\"name\":\"BasicTickFormatter\",\"id\":\"p1053\"},\"major_label_policy\":{\"type\":\"object\",\"name\":\"AllLabels\",\"id\":\"p1054\"}}}],\"center\":[{\"type\":\"object\",\"name\":\"Grid\",\"id\":\"p1055\",\"attributes\":{\"axis\":{\"id\":\"p1051\"}}},{\"type\":\"object\",\"name\":\"Grid\",\"id\":\"p1060\",\"attributes\":{\"dimension\":1,\"axis\":{\"id\":\"p1056\"}}}]}}]}};\n",
       "  const render_items = [{\"docid\":\"3f7afba7-c75d-429e-993e-1711bacc4a39\",\"roots\":{\"p1040\":\"eb9cbb83-0a42-47ad-b266-746e657d3983\"},\"root_ids\":[\"p1040\"]}];\n",
       "  root.Bokeh.embed.embed_items_notebook(docs_json, render_items);\n",
       "  }\n",
       "  if (root.Bokeh !== undefined) {\n",
       "    embed_document(root);\n",
       "  } else {\n",
       "    let attempts = 0;\n",
       "    const timer = setInterval(function(root) {\n",
       "      if (root.Bokeh !== undefined) {\n",
       "        clearInterval(timer);\n",
       "        embed_document(root);\n",
       "      } else {\n",
       "        attempts++;\n",
       "        if (attempts > 100) {\n",
       "          clearInterval(timer);\n",
       "          console.log(\"Bokeh: ERROR: Unable to run BokehJS code because BokehJS library is missing\");\n",
       "        }\n",
       "      }\n",
       "    }, 10, root)\n",
       "  }\n",
       "})(window);"
      ],
      "application/vnd.bokehjs_exec.v0+json": ""
     },
     "metadata": {
      "application/vnd.bokehjs_exec.v0+json": {
       "id": "p1040"
      }
     },
     "output_type": "display_data"
    }
   ],
   "source": [
    "# create a histogram with 10 bins\n",
    "hist, edges = np.histogram(st_resids, \n",
    "                           bins=10)\n",
    "\n",
    "fig = figure(height=400, \n",
    "             width=400)\n",
    "\n",
    "fig.quad(top=hist, \n",
    "         bottom=0, \n",
    "         left=edges[:-1], \n",
    "         right=edges[1:], \n",
    "         line_color=\"white\")\n",
    "\n",
    "#Show the chart\n",
    "show(fig)"
   ]
  },
  {
   "cell_type": "markdown",
   "id": "0020e8c6",
   "metadata": {},
   "source": [
    "According to the scatter plot, the histogram and the JB test, this model violates the normality assumptions. To elaborate, the probability of JB in the JB test is 5.70e-128, which is extremely smaller than the significance level of 0.05. Therefore, the null hypothesis of normal distribution is rejected. Besides, the residual distribution in the scatter plot is not normal."
   ]
  },
  {
   "cell_type": "markdown",
   "id": "48da9cb4",
   "metadata": {},
   "source": [
    "**According to the results obtained from the model, we can say that this model is not useable to predict the number of people who get vaccinated in a day.**"
   ]
  },
  {
   "cell_type": "markdown",
   "id": "ddde90a8",
   "metadata": {},
   "source": [
    "# Conclusion"
   ]
  },
  {
   "cell_type": "markdown",
   "id": "f8d85cef",
   "metadata": {},
   "source": [
    "All in all, from the dataset provided, it is unable to conduct an appropriate regression model to predict the total number of people who get vaccinated in a day. However, there are some key findings as follows:\n",
    "- 2022 witnessed a considerable decrease in the number of vaccinated people compared to 2021 because there are a lot of citizens who already finished the three-dose in 2021 and COVID-19 stopped its outbreak at the beginning of 2022.\n",
    "- The dataset is insufficient due to the lack of data in the third quarter.\n",
    "- There are some pairs of variables in the dataset that are highly correlated: Day and Working day; Month and Quarter"
   ]
  },
  {
   "cell_type": "code",
   "execution_count": 33,
   "id": "019f24fa",
   "metadata": {},
   "outputs": [
    {
     "data": {
      "application/javascript": [
       "var nb = IPython.notebook;\n",
       "var kernel = IPython.notebook.kernel;\n",
       "var command = \"NOTEBOOK_FULL_PATH = '\" + nb.notebook_path + \"'\";\n",
       "kernel.execute(command);\n"
      ],
      "text/plain": [
       "<IPython.core.display.Javascript object>"
      ]
     },
     "metadata": {},
     "output_type": "display_data"
    }
   ],
   "source": [
    "%%javascript\n",
    "var nb = IPython.notebook;\n",
    "var kernel = IPython.notebook.kernel;\n",
    "var command = \"NOTEBOOK_FULL_PATH = '\" + nb.notebook_path + \"'\";\n",
    "kernel.execute(command);"
   ]
  },
  {
   "cell_type": "code",
   "execution_count": 34,
   "id": "3bf1adbc",
   "metadata": {},
   "outputs": [
    {
     "name": "stdout",
     "output_type": "stream",
     "text": [
      "Word count: 1624\n"
     ]
    }
   ],
   "source": [
    "import io\n",
    "from nbformat import read, NO_CONVERT\n",
    "\n",
    "with io.open(NOTEBOOK_FULL_PATH.split(\"/\")[-1], 'r', encoding='utf-8') as f:\n",
    "    nb = read(f, NO_CONVERT)\n",
    "\n",
    "word_count = 0\n",
    "for cell in nb.cells:\n",
    "    if cell.cell_type == \"markdown\":\n",
    "        word_count += len(cell['source'].replace('#', '').lstrip().split(' '))\n",
    "print(f\"Word count: {word_count}\")"
   ]
  }
 ],
 "metadata": {
  "kernelspec": {
   "display_name": "Python 3 (ipykernel)",
   "language": "python",
   "name": "python3"
  },
  "language_info": {
   "codemirror_mode": {
    "name": "ipython",
    "version": 3
   },
   "file_extension": ".py",
   "mimetype": "text/x-python",
   "name": "python",
   "nbconvert_exporter": "python",
   "pygments_lexer": "ipython3",
   "version": "3.11.4"
  }
 },
 "nbformat": 4,
 "nbformat_minor": 5
}
